{
  "cells": [
    {
      "cell_type": "markdown",
      "metadata": {
        "id": "pow7TzyVsROp"
      },
      "source": [
        "# Assignment 2 for FIT5212, Semester 1\n",
        "\n",
        "**Student Name:** Michelle Fong"
      ]
    },
    {
      "cell_type": "code",
      "execution_count": 5,
      "metadata": {
        "colab": {
          "base_uri": "https://localhost:8080/"
        },
        "id": "axO1eV0jvfAB",
        "outputId": "e732c6e4-d5ab-4cc7-a86f-9c7dc6290447"
      },
      "outputs": [
        {
          "name": "stdout",
          "output_type": "stream",
          "text": [
            "Mounted at /content/drive\n"
          ]
        }
      ],
      "source": [
        "from google.colab import drive\n",
        "drive.mount('/content/drive')"
      ]
    },
    {
      "cell_type": "code",
      "execution_count": 6,
      "metadata": {
        "colab": {
          "base_uri": "https://localhost:8080/"
        },
        "id": "iUNSF2DXyz5n",
        "outputId": "9f89ac01-897c-4c43-d939-a8578c3b67bf"
      },
      "outputs": [
        {
          "name": "stdout",
          "output_type": "stream",
          "text": [
            "Collecting scikit-surprise\n",
            "  Downloading scikit-surprise-1.1.3.tar.gz (771 kB)\n",
            "\u001b[?25l     \u001b[90m━━━━━━━━━━━━━━━━━━━━━━━━━━━━━━━━━━━━━━━━\u001b[0m \u001b[32m0.0/772.0 kB\u001b[0m \u001b[31m?\u001b[0m eta \u001b[36m-:--:--\u001b[0m\r\u001b[2K     \u001b[91m━━━━━━━━━━\u001b[0m\u001b[90m╺\u001b[0m\u001b[90m━━━━━━━━━━━━━━━━━━━━━━━━━━━━━\u001b[0m \u001b[32m194.6/772.0 kB\u001b[0m \u001b[31m5.8 MB/s\u001b[0m eta \u001b[36m0:00:01\u001b[0m\r\u001b[2K     \u001b[90m━━━━━━━━━━━━━━━━━━━━━━━━━━━━━━━━━━━━━━━━\u001b[0m \u001b[32m772.0/772.0 kB\u001b[0m \u001b[31m11.7 MB/s\u001b[0m eta \u001b[36m0:00:00\u001b[0m\n",
            "\u001b[?25h  Preparing metadata (setup.py) ... \u001b[?25l\u001b[?25hdone\n",
            "Requirement already satisfied: joblib>=1.0.0 in /usr/local/lib/python3.10/dist-packages (from scikit-surprise) (1.4.2)\n",
            "Requirement already satisfied: numpy>=1.17.3 in /usr/local/lib/python3.10/dist-packages (from scikit-surprise) (1.25.2)\n",
            "Requirement already satisfied: scipy>=1.3.2 in /usr/local/lib/python3.10/dist-packages (from scikit-surprise) (1.11.4)\n",
            "Building wheels for collected packages: scikit-surprise\n",
            "  Building wheel for scikit-surprise (setup.py) ... \u001b[?25l\u001b[?25hdone\n",
            "  Created wheel for scikit-surprise: filename=scikit_surprise-1.1.3-cp310-cp310-linux_x86_64.whl size=3162979 sha256=b71799cabd16682641cc9b244cab83806904264de541ba67b12d2a0a17f2a037\n",
            "  Stored in directory: /root/.cache/pip/wheels/a5/ca/a8/4e28def53797fdc4363ca4af740db15a9c2f1595ebc51fb445\n",
            "Successfully built scikit-surprise\n",
            "Installing collected packages: scikit-surprise\n",
            "Successfully installed scikit-surprise-1.1.3\n"
          ]
        }
      ],
      "source": [
        "!pip install scikit-surprise"
      ]
    },
    {
      "cell_type": "code",
      "execution_count": 7,
      "metadata": {
        "id": "If9xJTftvgt-"
      },
      "outputs": [],
      "source": [
        "%matplotlib inline\n",
        "import pandas as pd\n",
        "import numpy as np\n",
        "from surprise import Reader, Dataset, SVD, KNNBasic\n",
        "from surprise.model_selection import cross_validate, train_test_split\n",
        "\n",
        "from surprise import NMF\n",
        "\n",
        "from surprise.model_selection import GridSearchCV\n",
        "from surprise import Reader, Dataset, SVD\n",
        "\n",
        "import warnings; warnings.simplefilter('ignore')"
      ]
    },
    {
      "cell_type": "markdown",
      "metadata": {
        "id": "mNOu0IEJqEJO"
      },
      "source": [
        "# Task 1:  Recommendation System\n",
        "\n",
        "This part is to build a recommendation system predicting user rating using collaborativ filtering and various models. The following were considered when determinating the optimal model:\n",
        "1. Voting & helpful_vote\n",
        "2. Rounding of rating prediction\n",
        "3. Training model algorithm\n",
        "\n",
        "Various model are fitted and compared against each other. The results are measured by using metrics: RMSE, MAE. Further discussion would be held in the pdf report."
      ]
    },
    {
      "cell_type": "markdown",
      "metadata": {
        "id": "BexJKTKIv9aM"
      },
      "source": [
        "## Data Loading"
      ]
    },
    {
      "cell_type": "code",
      "execution_count": 8,
      "metadata": {
        "colab": {
          "base_uri": "https://localhost:8080/",
          "height": 276
        },
        "id": "bPJhstjSwA62",
        "outputId": "569dc9ea-a3e4-4451-9651-231a9fdc274b"
      },
      "outputs": [
        {
          "data": {
            "application/vnd.google.colaboratory.intrinsic+json": {
              "type": "dataframe",
              "variable_name": "train"
            },
            "text/html": [
              "\n",
              "  <div id=\"df-17b69ce6-9385-48cf-b7ee-e8dcff0738ca\" class=\"colab-df-container\">\n",
              "    <div>\n",
              "<style scoped>\n",
              "    .dataframe tbody tr th:only-of-type {\n",
              "        vertical-align: middle;\n",
              "    }\n",
              "\n",
              "    .dataframe tbody tr th {\n",
              "        vertical-align: top;\n",
              "    }\n",
              "\n",
              "    .dataframe thead th {\n",
              "        text-align: right;\n",
              "    }\n",
              "</style>\n",
              "<table border=\"1\" class=\"dataframe\">\n",
              "  <thead>\n",
              "    <tr style=\"text-align: right;\">\n",
              "      <th></th>\n",
              "      <th>user_id</th>\n",
              "      <th>product_id</th>\n",
              "      <th>product_name</th>\n",
              "      <th>rating</th>\n",
              "      <th>votes</th>\n",
              "      <th>helpful_votes</th>\n",
              "      <th>ID</th>\n",
              "    </tr>\n",
              "  </thead>\n",
              "  <tbody>\n",
              "    <tr>\n",
              "      <th>0</th>\n",
              "      <td>1813</td>\n",
              "      <td>154533</td>\n",
              "      <td>Beautiful Thing</td>\n",
              "      <td>5</td>\n",
              "      <td>10</td>\n",
              "      <td>8</td>\n",
              "      <td>0</td>\n",
              "    </tr>\n",
              "    <tr>\n",
              "      <th>1</th>\n",
              "      <td>1944</td>\n",
              "      <td>192838</td>\n",
              "      <td>Almost Famous</td>\n",
              "      <td>5</td>\n",
              "      <td>4</td>\n",
              "      <td>2</td>\n",
              "      <td>1</td>\n",
              "    </tr>\n",
              "    <tr>\n",
              "      <th>2</th>\n",
              "      <td>534</td>\n",
              "      <td>202590</td>\n",
              "      <td>A Clockwork Orange</td>\n",
              "      <td>5</td>\n",
              "      <td>5</td>\n",
              "      <td>5</td>\n",
              "      <td>2</td>\n",
              "    </tr>\n",
              "    <tr>\n",
              "      <th>3</th>\n",
              "      <td>1811</td>\n",
              "      <td>140456</td>\n",
              "      <td>Great Expectations (Wordsworth Classics)</td>\n",
              "      <td>4</td>\n",
              "      <td>1</td>\n",
              "      <td>0</td>\n",
              "      <td>3</td>\n",
              "    </tr>\n",
              "    <tr>\n",
              "      <th>4</th>\n",
              "      <td>102</td>\n",
              "      <td>154278</td>\n",
              "      <td>Phenomenon</td>\n",
              "      <td>5</td>\n",
              "      <td>0</td>\n",
              "      <td>0</td>\n",
              "      <td>4</td>\n",
              "    </tr>\n",
              "  </tbody>\n",
              "</table>\n",
              "</div>\n",
              "    <div class=\"colab-df-buttons\">\n",
              "\n",
              "  <div class=\"colab-df-container\">\n",
              "    <button class=\"colab-df-convert\" onclick=\"convertToInteractive('df-17b69ce6-9385-48cf-b7ee-e8dcff0738ca')\"\n",
              "            title=\"Convert this dataframe to an interactive table.\"\n",
              "            style=\"display:none;\">\n",
              "\n",
              "  <svg xmlns=\"http://www.w3.org/2000/svg\" height=\"24px\" viewBox=\"0 -960 960 960\">\n",
              "    <path d=\"M120-120v-720h720v720H120Zm60-500h600v-160H180v160Zm220 220h160v-160H400v160Zm0 220h160v-160H400v160ZM180-400h160v-160H180v160Zm440 0h160v-160H620v160ZM180-180h160v-160H180v160Zm440 0h160v-160H620v160Z\"/>\n",
              "  </svg>\n",
              "    </button>\n",
              "\n",
              "  <style>\n",
              "    .colab-df-container {\n",
              "      display:flex;\n",
              "      gap: 12px;\n",
              "    }\n",
              "\n",
              "    .colab-df-convert {\n",
              "      background-color: #E8F0FE;\n",
              "      border: none;\n",
              "      border-radius: 50%;\n",
              "      cursor: pointer;\n",
              "      display: none;\n",
              "      fill: #1967D2;\n",
              "      height: 32px;\n",
              "      padding: 0 0 0 0;\n",
              "      width: 32px;\n",
              "    }\n",
              "\n",
              "    .colab-df-convert:hover {\n",
              "      background-color: #E2EBFA;\n",
              "      box-shadow: 0px 1px 2px rgba(60, 64, 67, 0.3), 0px 1px 3px 1px rgba(60, 64, 67, 0.15);\n",
              "      fill: #174EA6;\n",
              "    }\n",
              "\n",
              "    .colab-df-buttons div {\n",
              "      margin-bottom: 4px;\n",
              "    }\n",
              "\n",
              "    [theme=dark] .colab-df-convert {\n",
              "      background-color: #3B4455;\n",
              "      fill: #D2E3FC;\n",
              "    }\n",
              "\n",
              "    [theme=dark] .colab-df-convert:hover {\n",
              "      background-color: #434B5C;\n",
              "      box-shadow: 0px 1px 3px 1px rgba(0, 0, 0, 0.15);\n",
              "      filter: drop-shadow(0px 1px 2px rgba(0, 0, 0, 0.3));\n",
              "      fill: #FFFFFF;\n",
              "    }\n",
              "  </style>\n",
              "\n",
              "    <script>\n",
              "      const buttonEl =\n",
              "        document.querySelector('#df-17b69ce6-9385-48cf-b7ee-e8dcff0738ca button.colab-df-convert');\n",
              "      buttonEl.style.display =\n",
              "        google.colab.kernel.accessAllowed ? 'block' : 'none';\n",
              "\n",
              "      async function convertToInteractive(key) {\n",
              "        const element = document.querySelector('#df-17b69ce6-9385-48cf-b7ee-e8dcff0738ca');\n",
              "        const dataTable =\n",
              "          await google.colab.kernel.invokeFunction('convertToInteractive',\n",
              "                                                    [key], {});\n",
              "        if (!dataTable) return;\n",
              "\n",
              "        const docLinkHtml = 'Like what you see? Visit the ' +\n",
              "          '<a target=\"_blank\" href=https://colab.research.google.com/notebooks/data_table.ipynb>data table notebook</a>'\n",
              "          + ' to learn more about interactive tables.';\n",
              "        element.innerHTML = '';\n",
              "        dataTable['output_type'] = 'display_data';\n",
              "        await google.colab.output.renderOutput(dataTable, element);\n",
              "        const docLink = document.createElement('div');\n",
              "        docLink.innerHTML = docLinkHtml;\n",
              "        element.appendChild(docLink);\n",
              "      }\n",
              "    </script>\n",
              "  </div>\n",
              "\n",
              "\n",
              "<div id=\"df-1de21068-72c0-45c3-92ae-71b121d2f70b\">\n",
              "  <button class=\"colab-df-quickchart\" onclick=\"quickchart('df-1de21068-72c0-45c3-92ae-71b121d2f70b')\"\n",
              "            title=\"Suggest charts\"\n",
              "            style=\"display:none;\">\n",
              "\n",
              "<svg xmlns=\"http://www.w3.org/2000/svg\" height=\"24px\"viewBox=\"0 0 24 24\"\n",
              "     width=\"24px\">\n",
              "    <g>\n",
              "        <path d=\"M19 3H5c-1.1 0-2 .9-2 2v14c0 1.1.9 2 2 2h14c1.1 0 2-.9 2-2V5c0-1.1-.9-2-2-2zM9 17H7v-7h2v7zm4 0h-2V7h2v10zm4 0h-2v-4h2v4z\"/>\n",
              "    </g>\n",
              "</svg>\n",
              "  </button>\n",
              "\n",
              "<style>\n",
              "  .colab-df-quickchart {\n",
              "      --bg-color: #E8F0FE;\n",
              "      --fill-color: #1967D2;\n",
              "      --hover-bg-color: #E2EBFA;\n",
              "      --hover-fill-color: #174EA6;\n",
              "      --disabled-fill-color: #AAA;\n",
              "      --disabled-bg-color: #DDD;\n",
              "  }\n",
              "\n",
              "  [theme=dark] .colab-df-quickchart {\n",
              "      --bg-color: #3B4455;\n",
              "      --fill-color: #D2E3FC;\n",
              "      --hover-bg-color: #434B5C;\n",
              "      --hover-fill-color: #FFFFFF;\n",
              "      --disabled-bg-color: #3B4455;\n",
              "      --disabled-fill-color: #666;\n",
              "  }\n",
              "\n",
              "  .colab-df-quickchart {\n",
              "    background-color: var(--bg-color);\n",
              "    border: none;\n",
              "    border-radius: 50%;\n",
              "    cursor: pointer;\n",
              "    display: none;\n",
              "    fill: var(--fill-color);\n",
              "    height: 32px;\n",
              "    padding: 0;\n",
              "    width: 32px;\n",
              "  }\n",
              "\n",
              "  .colab-df-quickchart:hover {\n",
              "    background-color: var(--hover-bg-color);\n",
              "    box-shadow: 0 1px 2px rgba(60, 64, 67, 0.3), 0 1px 3px 1px rgba(60, 64, 67, 0.15);\n",
              "    fill: var(--button-hover-fill-color);\n",
              "  }\n",
              "\n",
              "  .colab-df-quickchart-complete:disabled,\n",
              "  .colab-df-quickchart-complete:disabled:hover {\n",
              "    background-color: var(--disabled-bg-color);\n",
              "    fill: var(--disabled-fill-color);\n",
              "    box-shadow: none;\n",
              "  }\n",
              "\n",
              "  .colab-df-spinner {\n",
              "    border: 2px solid var(--fill-color);\n",
              "    border-color: transparent;\n",
              "    border-bottom-color: var(--fill-color);\n",
              "    animation:\n",
              "      spin 1s steps(1) infinite;\n",
              "  }\n",
              "\n",
              "  @keyframes spin {\n",
              "    0% {\n",
              "      border-color: transparent;\n",
              "      border-bottom-color: var(--fill-color);\n",
              "      border-left-color: var(--fill-color);\n",
              "    }\n",
              "    20% {\n",
              "      border-color: transparent;\n",
              "      border-left-color: var(--fill-color);\n",
              "      border-top-color: var(--fill-color);\n",
              "    }\n",
              "    30% {\n",
              "      border-color: transparent;\n",
              "      border-left-color: var(--fill-color);\n",
              "      border-top-color: var(--fill-color);\n",
              "      border-right-color: var(--fill-color);\n",
              "    }\n",
              "    40% {\n",
              "      border-color: transparent;\n",
              "      border-right-color: var(--fill-color);\n",
              "      border-top-color: var(--fill-color);\n",
              "    }\n",
              "    60% {\n",
              "      border-color: transparent;\n",
              "      border-right-color: var(--fill-color);\n",
              "    }\n",
              "    80% {\n",
              "      border-color: transparent;\n",
              "      border-right-color: var(--fill-color);\n",
              "      border-bottom-color: var(--fill-color);\n",
              "    }\n",
              "    90% {\n",
              "      border-color: transparent;\n",
              "      border-bottom-color: var(--fill-color);\n",
              "    }\n",
              "  }\n",
              "</style>\n",
              "\n",
              "  <script>\n",
              "    async function quickchart(key) {\n",
              "      const quickchartButtonEl =\n",
              "        document.querySelector('#' + key + ' button');\n",
              "      quickchartButtonEl.disabled = true;  // To prevent multiple clicks.\n",
              "      quickchartButtonEl.classList.add('colab-df-spinner');\n",
              "      try {\n",
              "        const charts = await google.colab.kernel.invokeFunction(\n",
              "            'suggestCharts', [key], {});\n",
              "      } catch (error) {\n",
              "        console.error('Error during call to suggestCharts:', error);\n",
              "      }\n",
              "      quickchartButtonEl.classList.remove('colab-df-spinner');\n",
              "      quickchartButtonEl.classList.add('colab-df-quickchart-complete');\n",
              "    }\n",
              "    (() => {\n",
              "      let quickchartButtonEl =\n",
              "        document.querySelector('#df-1de21068-72c0-45c3-92ae-71b121d2f70b button');\n",
              "      quickchartButtonEl.style.display =\n",
              "        google.colab.kernel.accessAllowed ? 'block' : 'none';\n",
              "    })();\n",
              "  </script>\n",
              "</div>\n",
              "    </div>\n",
              "  </div>\n"
            ],
            "text/plain": [
              "   user_id  product_id                              product_name  rating  \\\n",
              "0     1813      154533                           Beautiful Thing       5   \n",
              "1     1944      192838                             Almost Famous       5   \n",
              "2      534      202590                        A Clockwork Orange       5   \n",
              "3     1811      140456  Great Expectations (Wordsworth Classics)       4   \n",
              "4      102      154278                                Phenomenon       5   \n",
              "\n",
              "   votes  helpful_votes  ID  \n",
              "0     10              8   0  \n",
              "1      4              2   1  \n",
              "2      5              5   2  \n",
              "3      1              0   3  \n",
              "4      0              0   4  "
            ]
          },
          "execution_count": 8,
          "metadata": {},
          "output_type": "execute_result"
        }
      ],
      "source": [
        "path = '/content/drive/MyDrive/Colab Notebooks/fit5212/asg2/'\n",
        "\n",
        "# path = '/content/'\n",
        "train = pd.read_csv(path + 'train.csv')\n",
        "test = pd.read_csv(path + 'test.csv')\n",
        "train.head(5)"
      ]
    },
    {
      "cell_type": "code",
      "execution_count": 5,
      "metadata": {
        "colab": {
          "base_uri": "https://localhost:8080/"
        },
        "id": "3KQI9nKEnTi-",
        "outputId": "a55c9ed5-29a5-470a-f2da-298b53998ea8"
      },
      "outputs": [
        {
          "name": "stdout",
          "output_type": "stream",
          "text": [
            "2000 201325\n"
          ]
        }
      ],
      "source": [
        "print(len(train.user_id.unique()),\n",
        "len(train.product_id.unique()))"
      ]
    },
    {
      "cell_type": "code",
      "execution_count": 6,
      "metadata": {
        "colab": {
          "base_uri": "https://localhost:8080/"
        },
        "id": "GXA_78lswX2C",
        "outputId": "031625ff-079c-4b0e-890a-522c63df457d"
      },
      "outputs": [
        {
          "name": "stdout",
          "output_type": "stream",
          "text": [
            "(745889, 7) (223553, 4)\n"
          ]
        }
      ],
      "source": [
        "print(train.shape, test.shape)"
      ]
    },
    {
      "cell_type": "code",
      "execution_count": 9,
      "metadata": {
        "colab": {
          "base_uri": "https://localhost:8080/",
          "height": 206
        },
        "id": "pMPX4oLIwhJe",
        "outputId": "0672be02-63d0-40be-c847-4b5378984cf3"
      },
      "outputs": [
        {
          "data": {
            "application/vnd.google.colaboratory.intrinsic+json": {
              "type": "dataframe",
              "variable_name": "test"
            },
            "text/html": [
              "\n",
              "  <div id=\"df-97709046-4b95-4cad-a43a-551e4e4f30a7\" class=\"colab-df-container\">\n",
              "    <div>\n",
              "<style scoped>\n",
              "    .dataframe tbody tr th:only-of-type {\n",
              "        vertical-align: middle;\n",
              "    }\n",
              "\n",
              "    .dataframe tbody tr th {\n",
              "        vertical-align: top;\n",
              "    }\n",
              "\n",
              "    .dataframe thead th {\n",
              "        text-align: right;\n",
              "    }\n",
              "</style>\n",
              "<table border=\"1\" class=\"dataframe\">\n",
              "  <thead>\n",
              "    <tr style=\"text-align: right;\">\n",
              "      <th></th>\n",
              "      <th>ID</th>\n",
              "      <th>user_id</th>\n",
              "      <th>product_id</th>\n",
              "      <th>product_name</th>\n",
              "    </tr>\n",
              "  </thead>\n",
              "  <tbody>\n",
              "    <tr>\n",
              "      <th>0</th>\n",
              "      <td>0</td>\n",
              "      <td>1916</td>\n",
              "      <td>185507</td>\n",
              "      <td>Maria [Australia]</td>\n",
              "    </tr>\n",
              "    <tr>\n",
              "      <th>1</th>\n",
              "      <td>1</td>\n",
              "      <td>1759</td>\n",
              "      <td>143430</td>\n",
              "      <td>The Mitchells: Five for Victory (Van Stockum, ...</td>\n",
              "    </tr>\n",
              "    <tr>\n",
              "      <th>2</th>\n",
              "      <td>2</td>\n",
              "      <td>1980</td>\n",
              "      <td>155861</td>\n",
              "      <td>Superman Cartoons of Max &amp; Dav</td>\n",
              "    </tr>\n",
              "    <tr>\n",
              "      <th>3</th>\n",
              "      <td>3</td>\n",
              "      <td>1502</td>\n",
              "      <td>71535</td>\n",
              "      <td>The Rainbow Fish Anniversary Edition</td>\n",
              "    </tr>\n",
              "    <tr>\n",
              "      <th>4</th>\n",
              "      <td>4</td>\n",
              "      <td>1255</td>\n",
              "      <td>13521</td>\n",
              "      <td>Confessions (Oxford World's Classics)</td>\n",
              "    </tr>\n",
              "  </tbody>\n",
              "</table>\n",
              "</div>\n",
              "    <div class=\"colab-df-buttons\">\n",
              "\n",
              "  <div class=\"colab-df-container\">\n",
              "    <button class=\"colab-df-convert\" onclick=\"convertToInteractive('df-97709046-4b95-4cad-a43a-551e4e4f30a7')\"\n",
              "            title=\"Convert this dataframe to an interactive table.\"\n",
              "            style=\"display:none;\">\n",
              "\n",
              "  <svg xmlns=\"http://www.w3.org/2000/svg\" height=\"24px\" viewBox=\"0 -960 960 960\">\n",
              "    <path d=\"M120-120v-720h720v720H120Zm60-500h600v-160H180v160Zm220 220h160v-160H400v160Zm0 220h160v-160H400v160ZM180-400h160v-160H180v160Zm440 0h160v-160H620v160ZM180-180h160v-160H180v160Zm440 0h160v-160H620v160Z\"/>\n",
              "  </svg>\n",
              "    </button>\n",
              "\n",
              "  <style>\n",
              "    .colab-df-container {\n",
              "      display:flex;\n",
              "      gap: 12px;\n",
              "    }\n",
              "\n",
              "    .colab-df-convert {\n",
              "      background-color: #E8F0FE;\n",
              "      border: none;\n",
              "      border-radius: 50%;\n",
              "      cursor: pointer;\n",
              "      display: none;\n",
              "      fill: #1967D2;\n",
              "      height: 32px;\n",
              "      padding: 0 0 0 0;\n",
              "      width: 32px;\n",
              "    }\n",
              "\n",
              "    .colab-df-convert:hover {\n",
              "      background-color: #E2EBFA;\n",
              "      box-shadow: 0px 1px 2px rgba(60, 64, 67, 0.3), 0px 1px 3px 1px rgba(60, 64, 67, 0.15);\n",
              "      fill: #174EA6;\n",
              "    }\n",
              "\n",
              "    .colab-df-buttons div {\n",
              "      margin-bottom: 4px;\n",
              "    }\n",
              "\n",
              "    [theme=dark] .colab-df-convert {\n",
              "      background-color: #3B4455;\n",
              "      fill: #D2E3FC;\n",
              "    }\n",
              "\n",
              "    [theme=dark] .colab-df-convert:hover {\n",
              "      background-color: #434B5C;\n",
              "      box-shadow: 0px 1px 3px 1px rgba(0, 0, 0, 0.15);\n",
              "      filter: drop-shadow(0px 1px 2px rgba(0, 0, 0, 0.3));\n",
              "      fill: #FFFFFF;\n",
              "    }\n",
              "  </style>\n",
              "\n",
              "    <script>\n",
              "      const buttonEl =\n",
              "        document.querySelector('#df-97709046-4b95-4cad-a43a-551e4e4f30a7 button.colab-df-convert');\n",
              "      buttonEl.style.display =\n",
              "        google.colab.kernel.accessAllowed ? 'block' : 'none';\n",
              "\n",
              "      async function convertToInteractive(key) {\n",
              "        const element = document.querySelector('#df-97709046-4b95-4cad-a43a-551e4e4f30a7');\n",
              "        const dataTable =\n",
              "          await google.colab.kernel.invokeFunction('convertToInteractive',\n",
              "                                                    [key], {});\n",
              "        if (!dataTable) return;\n",
              "\n",
              "        const docLinkHtml = 'Like what you see? Visit the ' +\n",
              "          '<a target=\"_blank\" href=https://colab.research.google.com/notebooks/data_table.ipynb>data table notebook</a>'\n",
              "          + ' to learn more about interactive tables.';\n",
              "        element.innerHTML = '';\n",
              "        dataTable['output_type'] = 'display_data';\n",
              "        await google.colab.output.renderOutput(dataTable, element);\n",
              "        const docLink = document.createElement('div');\n",
              "        docLink.innerHTML = docLinkHtml;\n",
              "        element.appendChild(docLink);\n",
              "      }\n",
              "    </script>\n",
              "  </div>\n",
              "\n",
              "\n",
              "<div id=\"df-bf277b8b-0e6e-43a0-a089-85c01ca0d739\">\n",
              "  <button class=\"colab-df-quickchart\" onclick=\"quickchart('df-bf277b8b-0e6e-43a0-a089-85c01ca0d739')\"\n",
              "            title=\"Suggest charts\"\n",
              "            style=\"display:none;\">\n",
              "\n",
              "<svg xmlns=\"http://www.w3.org/2000/svg\" height=\"24px\"viewBox=\"0 0 24 24\"\n",
              "     width=\"24px\">\n",
              "    <g>\n",
              "        <path d=\"M19 3H5c-1.1 0-2 .9-2 2v14c0 1.1.9 2 2 2h14c1.1 0 2-.9 2-2V5c0-1.1-.9-2-2-2zM9 17H7v-7h2v7zm4 0h-2V7h2v10zm4 0h-2v-4h2v4z\"/>\n",
              "    </g>\n",
              "</svg>\n",
              "  </button>\n",
              "\n",
              "<style>\n",
              "  .colab-df-quickchart {\n",
              "      --bg-color: #E8F0FE;\n",
              "      --fill-color: #1967D2;\n",
              "      --hover-bg-color: #E2EBFA;\n",
              "      --hover-fill-color: #174EA6;\n",
              "      --disabled-fill-color: #AAA;\n",
              "      --disabled-bg-color: #DDD;\n",
              "  }\n",
              "\n",
              "  [theme=dark] .colab-df-quickchart {\n",
              "      --bg-color: #3B4455;\n",
              "      --fill-color: #D2E3FC;\n",
              "      --hover-bg-color: #434B5C;\n",
              "      --hover-fill-color: #FFFFFF;\n",
              "      --disabled-bg-color: #3B4455;\n",
              "      --disabled-fill-color: #666;\n",
              "  }\n",
              "\n",
              "  .colab-df-quickchart {\n",
              "    background-color: var(--bg-color);\n",
              "    border: none;\n",
              "    border-radius: 50%;\n",
              "    cursor: pointer;\n",
              "    display: none;\n",
              "    fill: var(--fill-color);\n",
              "    height: 32px;\n",
              "    padding: 0;\n",
              "    width: 32px;\n",
              "  }\n",
              "\n",
              "  .colab-df-quickchart:hover {\n",
              "    background-color: var(--hover-bg-color);\n",
              "    box-shadow: 0 1px 2px rgba(60, 64, 67, 0.3), 0 1px 3px 1px rgba(60, 64, 67, 0.15);\n",
              "    fill: var(--button-hover-fill-color);\n",
              "  }\n",
              "\n",
              "  .colab-df-quickchart-complete:disabled,\n",
              "  .colab-df-quickchart-complete:disabled:hover {\n",
              "    background-color: var(--disabled-bg-color);\n",
              "    fill: var(--disabled-fill-color);\n",
              "    box-shadow: none;\n",
              "  }\n",
              "\n",
              "  .colab-df-spinner {\n",
              "    border: 2px solid var(--fill-color);\n",
              "    border-color: transparent;\n",
              "    border-bottom-color: var(--fill-color);\n",
              "    animation:\n",
              "      spin 1s steps(1) infinite;\n",
              "  }\n",
              "\n",
              "  @keyframes spin {\n",
              "    0% {\n",
              "      border-color: transparent;\n",
              "      border-bottom-color: var(--fill-color);\n",
              "      border-left-color: var(--fill-color);\n",
              "    }\n",
              "    20% {\n",
              "      border-color: transparent;\n",
              "      border-left-color: var(--fill-color);\n",
              "      border-top-color: var(--fill-color);\n",
              "    }\n",
              "    30% {\n",
              "      border-color: transparent;\n",
              "      border-left-color: var(--fill-color);\n",
              "      border-top-color: var(--fill-color);\n",
              "      border-right-color: var(--fill-color);\n",
              "    }\n",
              "    40% {\n",
              "      border-color: transparent;\n",
              "      border-right-color: var(--fill-color);\n",
              "      border-top-color: var(--fill-color);\n",
              "    }\n",
              "    60% {\n",
              "      border-color: transparent;\n",
              "      border-right-color: var(--fill-color);\n",
              "    }\n",
              "    80% {\n",
              "      border-color: transparent;\n",
              "      border-right-color: var(--fill-color);\n",
              "      border-bottom-color: var(--fill-color);\n",
              "    }\n",
              "    90% {\n",
              "      border-color: transparent;\n",
              "      border-bottom-color: var(--fill-color);\n",
              "    }\n",
              "  }\n",
              "</style>\n",
              "\n",
              "  <script>\n",
              "    async function quickchart(key) {\n",
              "      const quickchartButtonEl =\n",
              "        document.querySelector('#' + key + ' button');\n",
              "      quickchartButtonEl.disabled = true;  // To prevent multiple clicks.\n",
              "      quickchartButtonEl.classList.add('colab-df-spinner');\n",
              "      try {\n",
              "        const charts = await google.colab.kernel.invokeFunction(\n",
              "            'suggestCharts', [key], {});\n",
              "      } catch (error) {\n",
              "        console.error('Error during call to suggestCharts:', error);\n",
              "      }\n",
              "      quickchartButtonEl.classList.remove('colab-df-spinner');\n",
              "      quickchartButtonEl.classList.add('colab-df-quickchart-complete');\n",
              "    }\n",
              "    (() => {\n",
              "      let quickchartButtonEl =\n",
              "        document.querySelector('#df-bf277b8b-0e6e-43a0-a089-85c01ca0d739 button');\n",
              "      quickchartButtonEl.style.display =\n",
              "        google.colab.kernel.accessAllowed ? 'block' : 'none';\n",
              "    })();\n",
              "  </script>\n",
              "</div>\n",
              "    </div>\n",
              "  </div>\n"
            ],
            "text/plain": [
              "   ID  user_id  product_id                                       product_name\n",
              "0   0     1916      185507                                  Maria [Australia]\n",
              "1   1     1759      143430  The Mitchells: Five for Victory (Van Stockum, ...\n",
              "2   2     1980      155861                     Superman Cartoons of Max & Dav\n",
              "3   3     1502       71535               The Rainbow Fish Anniversary Edition\n",
              "4   4     1255       13521              Confessions (Oxford World's Classics)"
            ]
          },
          "execution_count": 9,
          "metadata": {},
          "output_type": "execute_result"
        }
      ],
      "source": [
        "test.head(5)"
      ]
    },
    {
      "cell_type": "markdown",
      "metadata": {
        "id": "cYSovThOX7BJ"
      },
      "source": [
        "## Data exploring"
      ]
    },
    {
      "cell_type": "code",
      "execution_count": 8,
      "metadata": {
        "colab": {
          "base_uri": "https://localhost:8080/"
        },
        "id": "Itii7X8HX8uY",
        "outputId": "8922b0e1-07bc-4072-91bc-e5a24e22dd6c"
      },
      "outputs": [
        {
          "name": "stdout",
          "output_type": "stream",
          "text": [
            "Number of unique users:  2000\n",
            "Number of unique products:  201325\n",
            "Number of total ratings:  745889\n",
            "Average number of ratings per user:  100.6625\n"
          ]
        }
      ],
      "source": [
        "n_users = train.user_id.unique().shape[0]\n",
        "n_prod = train.product_id.unique().shape[0]\n",
        "n_ratings = len(train)\n",
        "avg_ratings_per_user = n_prod/n_users\n",
        "\n",
        "print('Number of unique users: ', n_users)\n",
        "print('Number of unique products: ', n_prod)\n",
        "print('Number of total ratings: ', n_ratings)\n",
        "print('Average number of ratings per user: ', avg_ratings_per_user)"
      ]
    },
    {
      "cell_type": "markdown",
      "metadata": {
        "id": "d3NwWsisYS6w"
      },
      "source": [
        "## Memory Based"
      ]
    },
    {
      "cell_type": "code",
      "execution_count": null,
      "metadata": {
        "id": "9mTsx5lzYUe8"
      },
      "outputs": [],
      "source": [
        "# ratings_matrix = pd.pivot_table(train, values='rating', index='user_id', columns='product_id')\n",
        "# normalized_ratings_matrix = ratings_matrix.subtract(ratings_matrix.mean(axis=1), axis=0)\n",
        "# similarity_matrix = ratings_matrix.T.corr()"
      ]
    },
    {
      "cell_type": "markdown",
      "metadata": {
        "id": "PEcPXQy-sZlO"
      },
      "source": [
        "## Model 1: Whole Training set"
      ]
    },
    {
      "cell_type": "code",
      "execution_count": 9,
      "metadata": {
        "id": "S2ltAH1dAC0z"
      },
      "outputs": [],
      "source": [
        "reader = Reader(rating_scale=(1,5))"
      ]
    },
    {
      "cell_type": "code",
      "execution_count": 10,
      "metadata": {
        "id": "sr91A8UQscK5"
      },
      "outputs": [],
      "source": [
        "train_data = Dataset.load_from_df(train[['user_id', 'product_id', 'rating']],\n",
        "                                  reader)"
      ]
    },
    {
      "cell_type": "code",
      "execution_count": 11,
      "metadata": {
        "colab": {
          "base_uri": "https://localhost:8080/"
        },
        "id": "saMBpA_lscIW",
        "outputId": "b33b9114-6b1d-49ab-ce66-d01701528ab7"
      },
      "outputs": [
        {
          "name": "stdout",
          "output_type": "stream",
          "text": [
            "Computing the msd similarity matrix...\n",
            "Done computing similarity matrix.\n",
            "Computing the msd similarity matrix...\n",
            "Done computing similarity matrix.\n",
            "Computing the msd similarity matrix...\n",
            "Done computing similarity matrix.\n",
            "Computing the msd similarity matrix...\n",
            "Done computing similarity matrix.\n",
            "Computing the msd similarity matrix...\n",
            "Done computing similarity matrix.\n",
            "Evaluating RMSE, MAE of algorithm KNNBasic on 5 split(s).\n",
            "\n",
            "                  Fold 1  Fold 2  Fold 3  Fold 4  Fold 5  Mean    Std     \n",
            "RMSE (testset)    1.0188  1.0145  1.0183  1.0179  1.0160  1.0171  0.0016  \n",
            "MAE (testset)     0.7264  0.7258  0.7274  0.7273  0.7262  0.7266  0.0006  \n",
            "Fit time          1.40    1.75    1.31    1.47    1.61    1.51    0.16    \n",
            "Test time         14.43   13.04   11.05   6.00    7.75    10.45   3.16    \n"
          ]
        },
        {
          "data": {
            "text/plain": [
              "{'test_rmse': array([1.0188374 , 1.01447819, 1.01825476, 1.01792406, 1.01601932]),\n",
              " 'test_mae': array([0.72638538, 0.72579426, 0.72741979, 0.72729092, 0.72620052]),\n",
              " 'fit_time': (1.3991310596466064,\n",
              "  1.7509641647338867,\n",
              "  1.3098170757293701,\n",
              "  1.4675405025482178,\n",
              "  1.6076343059539795),\n",
              " 'test_time': (14.427459955215454,\n",
              "  13.038833618164062,\n",
              "  11.050644159317017,\n",
              "  6.004701852798462,\n",
              "  7.7460103034973145)}"
            ]
          },
          "execution_count": 11,
          "metadata": {},
          "output_type": "execute_result"
        }
      ],
      "source": [
        "# memory-based\n",
        "knn = KNNBasic()\n",
        "cross_validate(knn, train_data, measures=['RMSE', 'MAE'], cv=5, verbose=True)"
      ]
    },
    {
      "cell_type": "code",
      "execution_count": 12,
      "metadata": {
        "colab": {
          "base_uri": "https://localhost:8080/"
        },
        "id": "23kN6bo2scEH",
        "outputId": "e5598f82-226b-4548-a7c4-102ae21f5eae"
      },
      "outputs": [
        {
          "name": "stdout",
          "output_type": "stream",
          "text": [
            "Evaluating RMSE, MAE of algorithm SVD on 5 split(s).\n",
            "\n",
            "                  Fold 1  Fold 2  Fold 3  Fold 4  Fold 5  Mean    Std     \n",
            "RMSE (testset)    0.9390  0.9397  0.9402  0.9379  0.9346  0.9383  0.0020  \n",
            "MAE (testset)     0.6933  0.6932  0.6915  0.6894  0.6950  0.6925  0.0019  \n",
            "Fit time          19.86   21.23   25.40   29.55   24.94   24.20   3.41    \n",
            "Test time         1.68    1.67    2.47    3.84    1.56    2.24    0.86    \n"
          ]
        },
        {
          "data": {
            "text/plain": [
              "{'test_rmse': array([0.93898704, 0.93974167, 0.94019535, 0.93791259, 0.93456588]),\n",
              " 'test_mae': array([0.69332381, 0.69323156, 0.69148317, 0.68941135, 0.69495942]),\n",
              " 'fit_time': (19.86436104774475,\n",
              "  21.227962017059326,\n",
              "  25.396515130996704,\n",
              "  29.551833152770996,\n",
              "  24.937644958496094),\n",
              " 'test_time': (1.679917573928833,\n",
              "  1.6690199375152588,\n",
              "  2.4683501720428467,\n",
              "  3.8422365188598633,\n",
              "  1.5638434886932373)}"
            ]
          },
          "execution_count": 12,
          "metadata": {},
          "output_type": "execute_result"
        }
      ],
      "source": [
        "# model-based\n",
        "svd = SVD()\n",
        "cross_validate(svd, train_data, measures=['RMSE', 'MAE'], cv=5, verbose=True)"
      ]
    },
    {
      "cell_type": "code",
      "execution_count": 13,
      "metadata": {
        "id": "Ua-f-JHvs94Z"
      },
      "outputs": [],
      "source": [
        "# predict function iterating each row\n",
        "def predict_ratings(test_df, model):\n",
        "    predictions = []\n",
        "    for index, row in test_df.iterrows():\n",
        "        user_id = row['user_id']\n",
        "        product_id = row['product_id']\n",
        "        prediction = model.predict(user_id, product_id).est\n",
        "        predictions.append((row['ID'], prediction))\n",
        "    return predictions\n",
        "\n",
        "# rounded predict\n",
        "def predict_ratings_rounded(test_df, model):\n",
        "    predictions = []\n",
        "    for index, row in test_df.iterrows():\n",
        "        user_id = row['user_id']\n",
        "        product_id = row['product_id']\n",
        "        prediction = round(model.predict(user_id, product_id).est)\n",
        "        predictions.append((row['ID'], prediction))\n",
        "    return predictions"
      ]
    },
    {
      "cell_type": "code",
      "execution_count": 29,
      "metadata": {
        "id": "6WJvcshRsi4R"
      },
      "outputs": [],
      "source": [
        "model_1_test_pred_knn = predict_ratings(test, knn)\n",
        "result_df = pd.DataFrame(model_1_test_pred_knn, columns=['ID', 'rating'])\n",
        "result_df.to_csv('M1_output_knn.csv', index=False)\n",
        "# public score: 1.05338 (output 11)"
      ]
    },
    {
      "cell_type": "code",
      "execution_count": 30,
      "metadata": {
        "id": "rawrFBfIslo2"
      },
      "outputs": [],
      "source": [
        "model_1_test_pred_svd = predict_ratings(test, svd)\n",
        "result_df = pd.DataFrame(model_1_test_pred_svd, columns=['ID', 'rating'])\n",
        "result_df.to_csv('M1_output_svd.csv', index=False)\n",
        "# public score: 0.96668 (output 12)\n"
      ]
    },
    {
      "cell_type": "markdown",
      "metadata": {
        "id": "-1R9ynT3ELvM"
      },
      "source": [
        "## Model 2: SVD with rounding"
      ]
    },
    {
      "cell_type": "code",
      "execution_count": 31,
      "metadata": {
        "id": "LqrFsJ8DthDe"
      },
      "outputs": [],
      "source": [
        "M2_test_pred = predict_ratings_rounded(test, svd)\n",
        "result_df = pd.DataFrame(M2_test_pred, columns=['ID', 'rating'])\n",
        "result_df.to_csv('M2_output.csv', index=False)\n",
        "# public score: 1.02399 (output 18)\n"
      ]
    },
    {
      "cell_type": "markdown",
      "metadata": {
        "id": "HJVXeQ_GrYlE"
      },
      "source": [
        "## Model 3: Partial Training set: Voting & Helpful_vote"
      ]
    },
    {
      "cell_type": "code",
      "execution_count": 10,
      "metadata": {
        "colab": {
          "base_uri": "https://localhost:8080/",
          "height": 320
        },
        "id": "qIbEagb-wwV7",
        "outputId": "5a4cf73d-ea3a-4cf1-abc3-2be7c03beae8"
      },
      "outputs": [
        {
          "data": {
            "application/vnd.google.colaboratory.intrinsic+json": {
              "summary": "{\n  \"name\": \"train\",\n  \"rows\": 8,\n  \"fields\": [\n    {\n      \"column\": \"user_id\",\n      \"properties\": {\n        \"dtype\": \"number\",\n        \"std\": 263341.9993109346,\n        \"min\": 0.0,\n        \"max\": 745889.0,\n        \"num_unique_values\": 8,\n        \"samples\": [\n          1143.4276534444134,\n          1227.0,\n          745889.0\n        ],\n        \"semantic_type\": \"\",\n        \"description\": \"\"\n      }\n    },\n    {\n      \"column\": \"product_id\",\n      \"properties\": {\n        \"dtype\": \"number\",\n        \"std\": 235891.22831761578,\n        \"min\": 0.0,\n        \"max\": 745889.0,\n        \"num_unique_values\": 8,\n        \"samples\": [\n          116563.10909263979,\n          119997.0,\n          745889.0\n        ],\n        \"semantic_type\": \"\",\n        \"description\": \"\"\n      }\n    },\n    {\n      \"column\": \"rating\",\n      \"properties\": {\n        \"dtype\": \"number\",\n        \"std\": 263710.3065614529,\n        \"min\": 1.0,\n        \"max\": 745889.0,\n        \"num_unique_values\": 6,\n        \"samples\": [\n          745889.0,\n          4.2386709014343955,\n          5.0\n        ],\n        \"semantic_type\": \"\",\n        \"description\": \"\"\n      }\n    },\n    {\n      \"column\": \"votes\",\n      \"properties\": {\n        \"dtype\": \"number\",\n        \"std\": 263524.03855639463,\n        \"min\": 0.0,\n        \"max\": 745889.0,\n        \"num_unique_values\": 8,\n        \"samples\": [\n          7.408666705099552,\n          4.0,\n          745889.0\n        ],\n        \"semantic_type\": \"\",\n        \"description\": \"\"\n      }\n    },\n    {\n      \"column\": \"helpful_votes\",\n      \"properties\": {\n        \"dtype\": \"number\",\n        \"std\": 263583.549297927,\n        \"min\": 0.0,\n        \"max\": 745889.0,\n        \"num_unique_values\": 8,\n        \"samples\": [\n          5.3812122179037365,\n          2.0,\n          745889.0\n        ],\n        \"semantic_type\": \"\",\n        \"description\": \"\"\n      }\n    },\n    {\n      \"column\": \"ID\",\n      \"properties\": {\n        \"dtype\": \"number\",\n        \"std\": 268821.7854198447,\n        \"min\": 0.0,\n        \"max\": 745889.0,\n        \"num_unique_values\": 7,\n        \"samples\": [\n          745889.0,\n          372944.0,\n          559416.0\n        ],\n        \"semantic_type\": \"\",\n        \"description\": \"\"\n      }\n    }\n  ]\n}",
              "type": "dataframe"
            },
            "text/html": [
              "\n",
              "  <div id=\"df-a6265e5b-b13a-412d-9eee-e6a19717328c\" class=\"colab-df-container\">\n",
              "    <div>\n",
              "<style scoped>\n",
              "    .dataframe tbody tr th:only-of-type {\n",
              "        vertical-align: middle;\n",
              "    }\n",
              "\n",
              "    .dataframe tbody tr th {\n",
              "        vertical-align: top;\n",
              "    }\n",
              "\n",
              "    .dataframe thead th {\n",
              "        text-align: right;\n",
              "    }\n",
              "</style>\n",
              "<table border=\"1\" class=\"dataframe\">\n",
              "  <thead>\n",
              "    <tr style=\"text-align: right;\">\n",
              "      <th></th>\n",
              "      <th>user_id</th>\n",
              "      <th>product_id</th>\n",
              "      <th>rating</th>\n",
              "      <th>votes</th>\n",
              "      <th>helpful_votes</th>\n",
              "      <th>ID</th>\n",
              "    </tr>\n",
              "  </thead>\n",
              "  <tbody>\n",
              "    <tr>\n",
              "      <th>count</th>\n",
              "      <td>745889.000000</td>\n",
              "      <td>745889.000000</td>\n",
              "      <td>745889.000000</td>\n",
              "      <td>745889.000000</td>\n",
              "      <td>745889.000000</td>\n",
              "      <td>745889.000000</td>\n",
              "    </tr>\n",
              "    <tr>\n",
              "      <th>mean</th>\n",
              "      <td>1143.427653</td>\n",
              "      <td>116563.109093</td>\n",
              "      <td>4.238671</td>\n",
              "      <td>7.408667</td>\n",
              "      <td>5.381212</td>\n",
              "      <td>372944.000000</td>\n",
              "    </tr>\n",
              "    <tr>\n",
              "      <th>std</th>\n",
              "      <td>625.686509</td>\n",
              "      <td>68180.221826</td>\n",
              "      <td>1.072359</td>\n",
              "      <td>16.949467</td>\n",
              "      <td>13.089394</td>\n",
              "      <td>215319.751805</td>\n",
              "    </tr>\n",
              "    <tr>\n",
              "      <th>min</th>\n",
              "      <td>0.000000</td>\n",
              "      <td>0.000000</td>\n",
              "      <td>1.000000</td>\n",
              "      <td>0.000000</td>\n",
              "      <td>0.000000</td>\n",
              "      <td>0.000000</td>\n",
              "    </tr>\n",
              "    <tr>\n",
              "      <th>25%</th>\n",
              "      <td>590.000000</td>\n",
              "      <td>54561.000000</td>\n",
              "      <td>4.000000</td>\n",
              "      <td>1.000000</td>\n",
              "      <td>1.000000</td>\n",
              "      <td>186472.000000</td>\n",
              "    </tr>\n",
              "    <tr>\n",
              "      <th>50%</th>\n",
              "      <td>1227.000000</td>\n",
              "      <td>119997.000000</td>\n",
              "      <td>5.000000</td>\n",
              "      <td>4.000000</td>\n",
              "      <td>2.000000</td>\n",
              "      <td>372944.000000</td>\n",
              "    </tr>\n",
              "    <tr>\n",
              "      <th>75%</th>\n",
              "      <td>1748.000000</td>\n",
              "      <td>182973.000000</td>\n",
              "      <td>5.000000</td>\n",
              "      <td>8.000000</td>\n",
              "      <td>6.000000</td>\n",
              "      <td>559416.000000</td>\n",
              "    </tr>\n",
              "    <tr>\n",
              "      <th>max</th>\n",
              "      <td>1999.000000</td>\n",
              "      <td>219858.000000</td>\n",
              "      <td>5.000000</td>\n",
              "      <td>3740.000000</td>\n",
              "      <td>2537.000000</td>\n",
              "      <td>745888.000000</td>\n",
              "    </tr>\n",
              "  </tbody>\n",
              "</table>\n",
              "</div>\n",
              "    <div class=\"colab-df-buttons\">\n",
              "\n",
              "  <div class=\"colab-df-container\">\n",
              "    <button class=\"colab-df-convert\" onclick=\"convertToInteractive('df-a6265e5b-b13a-412d-9eee-e6a19717328c')\"\n",
              "            title=\"Convert this dataframe to an interactive table.\"\n",
              "            style=\"display:none;\">\n",
              "\n",
              "  <svg xmlns=\"http://www.w3.org/2000/svg\" height=\"24px\" viewBox=\"0 -960 960 960\">\n",
              "    <path d=\"M120-120v-720h720v720H120Zm60-500h600v-160H180v160Zm220 220h160v-160H400v160Zm0 220h160v-160H400v160ZM180-400h160v-160H180v160Zm440 0h160v-160H620v160ZM180-180h160v-160H180v160Zm440 0h160v-160H620v160Z\"/>\n",
              "  </svg>\n",
              "    </button>\n",
              "\n",
              "  <style>\n",
              "    .colab-df-container {\n",
              "      display:flex;\n",
              "      gap: 12px;\n",
              "    }\n",
              "\n",
              "    .colab-df-convert {\n",
              "      background-color: #E8F0FE;\n",
              "      border: none;\n",
              "      border-radius: 50%;\n",
              "      cursor: pointer;\n",
              "      display: none;\n",
              "      fill: #1967D2;\n",
              "      height: 32px;\n",
              "      padding: 0 0 0 0;\n",
              "      width: 32px;\n",
              "    }\n",
              "\n",
              "    .colab-df-convert:hover {\n",
              "      background-color: #E2EBFA;\n",
              "      box-shadow: 0px 1px 2px rgba(60, 64, 67, 0.3), 0px 1px 3px 1px rgba(60, 64, 67, 0.15);\n",
              "      fill: #174EA6;\n",
              "    }\n",
              "\n",
              "    .colab-df-buttons div {\n",
              "      margin-bottom: 4px;\n",
              "    }\n",
              "\n",
              "    [theme=dark] .colab-df-convert {\n",
              "      background-color: #3B4455;\n",
              "      fill: #D2E3FC;\n",
              "    }\n",
              "\n",
              "    [theme=dark] .colab-df-convert:hover {\n",
              "      background-color: #434B5C;\n",
              "      box-shadow: 0px 1px 3px 1px rgba(0, 0, 0, 0.15);\n",
              "      filter: drop-shadow(0px 1px 2px rgba(0, 0, 0, 0.3));\n",
              "      fill: #FFFFFF;\n",
              "    }\n",
              "  </style>\n",
              "\n",
              "    <script>\n",
              "      const buttonEl =\n",
              "        document.querySelector('#df-a6265e5b-b13a-412d-9eee-e6a19717328c button.colab-df-convert');\n",
              "      buttonEl.style.display =\n",
              "        google.colab.kernel.accessAllowed ? 'block' : 'none';\n",
              "\n",
              "      async function convertToInteractive(key) {\n",
              "        const element = document.querySelector('#df-a6265e5b-b13a-412d-9eee-e6a19717328c');\n",
              "        const dataTable =\n",
              "          await google.colab.kernel.invokeFunction('convertToInteractive',\n",
              "                                                    [key], {});\n",
              "        if (!dataTable) return;\n",
              "\n",
              "        const docLinkHtml = 'Like what you see? Visit the ' +\n",
              "          '<a target=\"_blank\" href=https://colab.research.google.com/notebooks/data_table.ipynb>data table notebook</a>'\n",
              "          + ' to learn more about interactive tables.';\n",
              "        element.innerHTML = '';\n",
              "        dataTable['output_type'] = 'display_data';\n",
              "        await google.colab.output.renderOutput(dataTable, element);\n",
              "        const docLink = document.createElement('div');\n",
              "        docLink.innerHTML = docLinkHtml;\n",
              "        element.appendChild(docLink);\n",
              "      }\n",
              "    </script>\n",
              "  </div>\n",
              "\n",
              "\n",
              "<div id=\"df-eb424009-2709-4a56-a9e3-014bf9bd6505\">\n",
              "  <button class=\"colab-df-quickchart\" onclick=\"quickchart('df-eb424009-2709-4a56-a9e3-014bf9bd6505')\"\n",
              "            title=\"Suggest charts\"\n",
              "            style=\"display:none;\">\n",
              "\n",
              "<svg xmlns=\"http://www.w3.org/2000/svg\" height=\"24px\"viewBox=\"0 0 24 24\"\n",
              "     width=\"24px\">\n",
              "    <g>\n",
              "        <path d=\"M19 3H5c-1.1 0-2 .9-2 2v14c0 1.1.9 2 2 2h14c1.1 0 2-.9 2-2V5c0-1.1-.9-2-2-2zM9 17H7v-7h2v7zm4 0h-2V7h2v10zm4 0h-2v-4h2v4z\"/>\n",
              "    </g>\n",
              "</svg>\n",
              "  </button>\n",
              "\n",
              "<style>\n",
              "  .colab-df-quickchart {\n",
              "      --bg-color: #E8F0FE;\n",
              "      --fill-color: #1967D2;\n",
              "      --hover-bg-color: #E2EBFA;\n",
              "      --hover-fill-color: #174EA6;\n",
              "      --disabled-fill-color: #AAA;\n",
              "      --disabled-bg-color: #DDD;\n",
              "  }\n",
              "\n",
              "  [theme=dark] .colab-df-quickchart {\n",
              "      --bg-color: #3B4455;\n",
              "      --fill-color: #D2E3FC;\n",
              "      --hover-bg-color: #434B5C;\n",
              "      --hover-fill-color: #FFFFFF;\n",
              "      --disabled-bg-color: #3B4455;\n",
              "      --disabled-fill-color: #666;\n",
              "  }\n",
              "\n",
              "  .colab-df-quickchart {\n",
              "    background-color: var(--bg-color);\n",
              "    border: none;\n",
              "    border-radius: 50%;\n",
              "    cursor: pointer;\n",
              "    display: none;\n",
              "    fill: var(--fill-color);\n",
              "    height: 32px;\n",
              "    padding: 0;\n",
              "    width: 32px;\n",
              "  }\n",
              "\n",
              "  .colab-df-quickchart:hover {\n",
              "    background-color: var(--hover-bg-color);\n",
              "    box-shadow: 0 1px 2px rgba(60, 64, 67, 0.3), 0 1px 3px 1px rgba(60, 64, 67, 0.15);\n",
              "    fill: var(--button-hover-fill-color);\n",
              "  }\n",
              "\n",
              "  .colab-df-quickchart-complete:disabled,\n",
              "  .colab-df-quickchart-complete:disabled:hover {\n",
              "    background-color: var(--disabled-bg-color);\n",
              "    fill: var(--disabled-fill-color);\n",
              "    box-shadow: none;\n",
              "  }\n",
              "\n",
              "  .colab-df-spinner {\n",
              "    border: 2px solid var(--fill-color);\n",
              "    border-color: transparent;\n",
              "    border-bottom-color: var(--fill-color);\n",
              "    animation:\n",
              "      spin 1s steps(1) infinite;\n",
              "  }\n",
              "\n",
              "  @keyframes spin {\n",
              "    0% {\n",
              "      border-color: transparent;\n",
              "      border-bottom-color: var(--fill-color);\n",
              "      border-left-color: var(--fill-color);\n",
              "    }\n",
              "    20% {\n",
              "      border-color: transparent;\n",
              "      border-left-color: var(--fill-color);\n",
              "      border-top-color: var(--fill-color);\n",
              "    }\n",
              "    30% {\n",
              "      border-color: transparent;\n",
              "      border-left-color: var(--fill-color);\n",
              "      border-top-color: var(--fill-color);\n",
              "      border-right-color: var(--fill-color);\n",
              "    }\n",
              "    40% {\n",
              "      border-color: transparent;\n",
              "      border-right-color: var(--fill-color);\n",
              "      border-top-color: var(--fill-color);\n",
              "    }\n",
              "    60% {\n",
              "      border-color: transparent;\n",
              "      border-right-color: var(--fill-color);\n",
              "    }\n",
              "    80% {\n",
              "      border-color: transparent;\n",
              "      border-right-color: var(--fill-color);\n",
              "      border-bottom-color: var(--fill-color);\n",
              "    }\n",
              "    90% {\n",
              "      border-color: transparent;\n",
              "      border-bottom-color: var(--fill-color);\n",
              "    }\n",
              "  }\n",
              "</style>\n",
              "\n",
              "  <script>\n",
              "    async function quickchart(key) {\n",
              "      const quickchartButtonEl =\n",
              "        document.querySelector('#' + key + ' button');\n",
              "      quickchartButtonEl.disabled = true;  // To prevent multiple clicks.\n",
              "      quickchartButtonEl.classList.add('colab-df-spinner');\n",
              "      try {\n",
              "        const charts = await google.colab.kernel.invokeFunction(\n",
              "            'suggestCharts', [key], {});\n",
              "      } catch (error) {\n",
              "        console.error('Error during call to suggestCharts:', error);\n",
              "      }\n",
              "      quickchartButtonEl.classList.remove('colab-df-spinner');\n",
              "      quickchartButtonEl.classList.add('colab-df-quickchart-complete');\n",
              "    }\n",
              "    (() => {\n",
              "      let quickchartButtonEl =\n",
              "        document.querySelector('#df-eb424009-2709-4a56-a9e3-014bf9bd6505 button');\n",
              "      quickchartButtonEl.style.display =\n",
              "        google.colab.kernel.accessAllowed ? 'block' : 'none';\n",
              "    })();\n",
              "  </script>\n",
              "</div>\n",
              "    </div>\n",
              "  </div>\n"
            ],
            "text/plain": [
              "             user_id     product_id         rating          votes  \\\n",
              "count  745889.000000  745889.000000  745889.000000  745889.000000   \n",
              "mean     1143.427653  116563.109093       4.238671       7.408667   \n",
              "std       625.686509   68180.221826       1.072359      16.949467   \n",
              "min         0.000000       0.000000       1.000000       0.000000   \n",
              "25%       590.000000   54561.000000       4.000000       1.000000   \n",
              "50%      1227.000000  119997.000000       5.000000       4.000000   \n",
              "75%      1748.000000  182973.000000       5.000000       8.000000   \n",
              "max      1999.000000  219858.000000       5.000000    3740.000000   \n",
              "\n",
              "       helpful_votes             ID  \n",
              "count  745889.000000  745889.000000  \n",
              "mean        5.381212  372944.000000  \n",
              "std        13.089394  215319.751805  \n",
              "min         0.000000       0.000000  \n",
              "25%         1.000000  186472.000000  \n",
              "50%         2.000000  372944.000000  \n",
              "75%         6.000000  559416.000000  \n",
              "max      2537.000000  745888.000000  "
            ]
          },
          "execution_count": 10,
          "metadata": {},
          "output_type": "execute_result"
        }
      ],
      "source": [
        "train.describe()"
      ]
    },
    {
      "cell_type": "code",
      "execution_count": 33,
      "metadata": {
        "colab": {
          "base_uri": "https://localhost:8080/"
        },
        "id": "fC_ZuqjSQlu7",
        "outputId": "fd3e39b6-bbd7-4f3f-9ff8-cf59340f31f9"
      },
      "outputs": [
        {
          "data": {
            "text/plain": [
              "(174695, 7)"
            ]
          },
          "execution_count": 33,
          "metadata": {},
          "output_type": "execute_result"
        }
      ],
      "source": [
        "train_filtered = train[(train['votes'] > train['votes'].mean()) & (train['helpful_votes'] > train['helpful_votes'].mean())]\n",
        "train_filtered.shape\n"
      ]
    },
    {
      "cell_type": "code",
      "execution_count": 34,
      "metadata": {
        "id": "Vkh1vREzLSLU"
      },
      "outputs": [],
      "source": [
        "train_filtered_data = Dataset.load_from_df(train_filtered[['user_id', 'product_id', 'rating']],\n",
        "                                  reader)"
      ]
    },
    {
      "cell_type": "code",
      "execution_count": 35,
      "metadata": {
        "colab": {
          "base_uri": "https://localhost:8080/"
        },
        "id": "O5YXq8MS4Lct",
        "outputId": "1e0c414d-84d7-4381-db9e-7160fcfdf8bc"
      },
      "outputs": [
        {
          "name": "stdout",
          "output_type": "stream",
          "text": [
            "Computing the msd similarity matrix...\n",
            "Done computing similarity matrix.\n",
            "Computing the msd similarity matrix...\n",
            "Done computing similarity matrix.\n",
            "Computing the msd similarity matrix...\n",
            "Done computing similarity matrix.\n",
            "Computing the msd similarity matrix...\n",
            "Done computing similarity matrix.\n",
            "Computing the msd similarity matrix...\n",
            "Done computing similarity matrix.\n",
            "Evaluating RMSE, MAE of algorithm KNNBasic on 5 split(s).\n",
            "\n",
            "                  Fold 1  Fold 2  Fold 3  Fold 4  Fold 5  Mean    Std     \n",
            "RMSE (testset)    1.0261  1.0202  1.0303  1.0422  1.0326  1.0303  0.0073  \n",
            "MAE (testset)     0.7192  0.7169  0.7214  0.7307  0.7223  0.7221  0.0047  \n",
            "Fit time          0.21    0.22    0.22    0.27    0.33    0.25    0.05    \n",
            "Test time         0.52    0.51    0.76    0.73    2.68    1.04    0.83    \n"
          ]
        },
        {
          "data": {
            "text/plain": [
              "{'test_rmse': array([1.02613967, 1.02016284, 1.03032793, 1.04222647, 1.03255754]),\n",
              " 'test_mae': array([0.71917874, 0.71694813, 0.7214462 , 0.73070663, 0.72225086]),\n",
              " 'fit_time': (0.2097325325012207,\n",
              "  0.21958327293395996,\n",
              "  0.2237405776977539,\n",
              "  0.2691066265106201,\n",
              "  0.33263230323791504),\n",
              " 'test_time': (0.5165715217590332,\n",
              "  0.5084643363952637,\n",
              "  0.764794111251831,\n",
              "  0.7266788482666016,\n",
              "  2.6832785606384277)}"
            ]
          },
          "execution_count": 35,
          "metadata": {},
          "output_type": "execute_result"
        }
      ],
      "source": [
        "knn = KNNBasic()\n",
        "cross_validate(knn, train_filtered_data, measures=['RMSE', 'MAE'], cv=5, verbose=True)"
      ]
    },
    {
      "cell_type": "code",
      "execution_count": 36,
      "metadata": {
        "colab": {
          "base_uri": "https://localhost:8080/"
        },
        "id": "wDqUFzy64bQb",
        "outputId": "e7a2c449-7f90-4aad-b73d-fabc75f8430d"
      },
      "outputs": [
        {
          "name": "stdout",
          "output_type": "stream",
          "text": [
            "Evaluating RMSE, MAE of algorithm SVD on 5 split(s).\n",
            "\n",
            "                  Fold 1  Fold 2  Fold 3  Fold 4  Fold 5  Mean    Std     \n",
            "RMSE (testset)    0.9504  0.9543  0.9487  0.9402  0.9579  0.9503  0.0060  \n",
            "MAE (testset)     0.7002  0.6978  0.6963  0.6900  0.7007  0.6970  0.0038  \n",
            "Fit time          3.88    4.96    4.56    4.19    5.08    4.54    0.45    \n",
            "Test time         0.30    1.24    0.24    0.26    0.40    0.49    0.38    \n"
          ]
        },
        {
          "data": {
            "text/plain": [
              "{'test_rmse': array([0.95035912, 0.95431184, 0.94873241, 0.94023051, 0.95786364]),\n",
              " 'test_mae': array([0.70019186, 0.6977775 , 0.69632944, 0.69002004, 0.7006607 ]),\n",
              " 'fit_time': (3.8815953731536865,\n",
              "  4.962086200714111,\n",
              "  4.564722299575806,\n",
              "  4.187767744064331,\n",
              "  5.080131769180298),\n",
              " 'test_time': (0.296588659286499,\n",
              "  1.2432236671447754,\n",
              "  0.23912906646728516,\n",
              "  0.26492905616760254,\n",
              "  0.39843034744262695)}"
            ]
          },
          "execution_count": 36,
          "metadata": {},
          "output_type": "execute_result"
        }
      ],
      "source": [
        "svd = SVD()\n",
        "cross_validate(svd, train_filtered_data, measures=['RMSE', 'MAE'], cv=5, verbose=True)"
      ]
    },
    {
      "cell_type": "code",
      "execution_count": 37,
      "metadata": {
        "id": "ANb3eGHnxcOz"
      },
      "outputs": [],
      "source": [
        "trainset_filtered = train_filtered_data.build_full_trainset()\n",
        "svd.fit(trainset_filtered)\n",
        "\n",
        "M3_test_pred = predict_ratings(test, svd)\n",
        "\n",
        "# Output the results in the desired form\n",
        "result_df = pd.DataFrame(M3_test_pred, columns=['ID', 'rating'])\n",
        "result_df.to_csv('M3_output.csv', index=False)\n",
        "# public score: 1.03176 (output 10)"
      ]
    },
    {
      "cell_type": "code",
      "execution_count": 38,
      "metadata": {
        "id": "m-rpCmjwe3jx"
      },
      "outputs": [],
      "source": [
        "# rounding\n",
        "# predict\n",
        "def predict_ratings_rounded(test_df, model):\n",
        "    predictions = []\n",
        "    for index, row in test_df.iterrows():\n",
        "        user_id = row['user_id']\n",
        "        product_id = row['product_id']\n",
        "        prediction = round(model.predict(user_id, product_id).est)\n",
        "        predictions.append((row['ID'], prediction))\n",
        "    return predictions\n",
        "\n",
        "\n",
        "M3_test_pred_round = predict_ratings_rounded(test, svd)\n",
        "# Output the results in the desired form\n",
        "result_df = pd.DataFrame(M3_test_pred_round, columns=['ID', 'rating'])\n",
        "result_df.to_csv('M3_output_rounded.csv', index=False)\n",
        "# public score: 1.08095 (output 4)"
      ]
    },
    {
      "cell_type": "markdown",
      "metadata": {
        "id": "D2HNH3vRUzXF"
      },
      "source": [
        "## Model 4: baseline model using ALS"
      ]
    },
    {
      "cell_type": "code",
      "execution_count": 11,
      "metadata": {
        "colab": {
          "base_uri": "https://localhost:8080/",
          "height": 276
        },
        "id": "2B-ah5WVn2Cx",
        "outputId": "a333d66a-10a4-4023-a3bc-36b078f04262"
      },
      "outputs": [
        {
          "data": {
            "application/vnd.google.colaboratory.intrinsic+json": {
              "type": "dataframe",
              "variable_name": "train"
            },
            "text/html": [
              "\n",
              "  <div id=\"df-8814c660-af53-457b-bc41-a770de89a762\" class=\"colab-df-container\">\n",
              "    <div>\n",
              "<style scoped>\n",
              "    .dataframe tbody tr th:only-of-type {\n",
              "        vertical-align: middle;\n",
              "    }\n",
              "\n",
              "    .dataframe tbody tr th {\n",
              "        vertical-align: top;\n",
              "    }\n",
              "\n",
              "    .dataframe thead th {\n",
              "        text-align: right;\n",
              "    }\n",
              "</style>\n",
              "<table border=\"1\" class=\"dataframe\">\n",
              "  <thead>\n",
              "    <tr style=\"text-align: right;\">\n",
              "      <th></th>\n",
              "      <th>user_id</th>\n",
              "      <th>product_id</th>\n",
              "      <th>product_name</th>\n",
              "      <th>rating</th>\n",
              "      <th>votes</th>\n",
              "      <th>helpful_votes</th>\n",
              "      <th>ID</th>\n",
              "    </tr>\n",
              "  </thead>\n",
              "  <tbody>\n",
              "    <tr>\n",
              "      <th>0</th>\n",
              "      <td>1813</td>\n",
              "      <td>154533</td>\n",
              "      <td>Beautiful Thing</td>\n",
              "      <td>5</td>\n",
              "      <td>10</td>\n",
              "      <td>8</td>\n",
              "      <td>0</td>\n",
              "    </tr>\n",
              "    <tr>\n",
              "      <th>1</th>\n",
              "      <td>1944</td>\n",
              "      <td>192838</td>\n",
              "      <td>Almost Famous</td>\n",
              "      <td>5</td>\n",
              "      <td>4</td>\n",
              "      <td>2</td>\n",
              "      <td>1</td>\n",
              "    </tr>\n",
              "    <tr>\n",
              "      <th>2</th>\n",
              "      <td>534</td>\n",
              "      <td>202590</td>\n",
              "      <td>A Clockwork Orange</td>\n",
              "      <td>5</td>\n",
              "      <td>5</td>\n",
              "      <td>5</td>\n",
              "      <td>2</td>\n",
              "    </tr>\n",
              "    <tr>\n",
              "      <th>3</th>\n",
              "      <td>1811</td>\n",
              "      <td>140456</td>\n",
              "      <td>Great Expectations (Wordsworth Classics)</td>\n",
              "      <td>4</td>\n",
              "      <td>1</td>\n",
              "      <td>0</td>\n",
              "      <td>3</td>\n",
              "    </tr>\n",
              "    <tr>\n",
              "      <th>4</th>\n",
              "      <td>102</td>\n",
              "      <td>154278</td>\n",
              "      <td>Phenomenon</td>\n",
              "      <td>5</td>\n",
              "      <td>0</td>\n",
              "      <td>0</td>\n",
              "      <td>4</td>\n",
              "    </tr>\n",
              "  </tbody>\n",
              "</table>\n",
              "</div>\n",
              "    <div class=\"colab-df-buttons\">\n",
              "\n",
              "  <div class=\"colab-df-container\">\n",
              "    <button class=\"colab-df-convert\" onclick=\"convertToInteractive('df-8814c660-af53-457b-bc41-a770de89a762')\"\n",
              "            title=\"Convert this dataframe to an interactive table.\"\n",
              "            style=\"display:none;\">\n",
              "\n",
              "  <svg xmlns=\"http://www.w3.org/2000/svg\" height=\"24px\" viewBox=\"0 -960 960 960\">\n",
              "    <path d=\"M120-120v-720h720v720H120Zm60-500h600v-160H180v160Zm220 220h160v-160H400v160Zm0 220h160v-160H400v160ZM180-400h160v-160H180v160Zm440 0h160v-160H620v160ZM180-180h160v-160H180v160Zm440 0h160v-160H620v160Z\"/>\n",
              "  </svg>\n",
              "    </button>\n",
              "\n",
              "  <style>\n",
              "    .colab-df-container {\n",
              "      display:flex;\n",
              "      gap: 12px;\n",
              "    }\n",
              "\n",
              "    .colab-df-convert {\n",
              "      background-color: #E8F0FE;\n",
              "      border: none;\n",
              "      border-radius: 50%;\n",
              "      cursor: pointer;\n",
              "      display: none;\n",
              "      fill: #1967D2;\n",
              "      height: 32px;\n",
              "      padding: 0 0 0 0;\n",
              "      width: 32px;\n",
              "    }\n",
              "\n",
              "    .colab-df-convert:hover {\n",
              "      background-color: #E2EBFA;\n",
              "      box-shadow: 0px 1px 2px rgba(60, 64, 67, 0.3), 0px 1px 3px 1px rgba(60, 64, 67, 0.15);\n",
              "      fill: #174EA6;\n",
              "    }\n",
              "\n",
              "    .colab-df-buttons div {\n",
              "      margin-bottom: 4px;\n",
              "    }\n",
              "\n",
              "    [theme=dark] .colab-df-convert {\n",
              "      background-color: #3B4455;\n",
              "      fill: #D2E3FC;\n",
              "    }\n",
              "\n",
              "    [theme=dark] .colab-df-convert:hover {\n",
              "      background-color: #434B5C;\n",
              "      box-shadow: 0px 1px 3px 1px rgba(0, 0, 0, 0.15);\n",
              "      filter: drop-shadow(0px 1px 2px rgba(0, 0, 0, 0.3));\n",
              "      fill: #FFFFFF;\n",
              "    }\n",
              "  </style>\n",
              "\n",
              "    <script>\n",
              "      const buttonEl =\n",
              "        document.querySelector('#df-8814c660-af53-457b-bc41-a770de89a762 button.colab-df-convert');\n",
              "      buttonEl.style.display =\n",
              "        google.colab.kernel.accessAllowed ? 'block' : 'none';\n",
              "\n",
              "      async function convertToInteractive(key) {\n",
              "        const element = document.querySelector('#df-8814c660-af53-457b-bc41-a770de89a762');\n",
              "        const dataTable =\n",
              "          await google.colab.kernel.invokeFunction('convertToInteractive',\n",
              "                                                    [key], {});\n",
              "        if (!dataTable) return;\n",
              "\n",
              "        const docLinkHtml = 'Like what you see? Visit the ' +\n",
              "          '<a target=\"_blank\" href=https://colab.research.google.com/notebooks/data_table.ipynb>data table notebook</a>'\n",
              "          + ' to learn more about interactive tables.';\n",
              "        element.innerHTML = '';\n",
              "        dataTable['output_type'] = 'display_data';\n",
              "        await google.colab.output.renderOutput(dataTable, element);\n",
              "        const docLink = document.createElement('div');\n",
              "        docLink.innerHTML = docLinkHtml;\n",
              "        element.appendChild(docLink);\n",
              "      }\n",
              "    </script>\n",
              "  </div>\n",
              "\n",
              "\n",
              "<div id=\"df-68229a0e-1109-425e-a19a-a675947bac1e\">\n",
              "  <button class=\"colab-df-quickchart\" onclick=\"quickchart('df-68229a0e-1109-425e-a19a-a675947bac1e')\"\n",
              "            title=\"Suggest charts\"\n",
              "            style=\"display:none;\">\n",
              "\n",
              "<svg xmlns=\"http://www.w3.org/2000/svg\" height=\"24px\"viewBox=\"0 0 24 24\"\n",
              "     width=\"24px\">\n",
              "    <g>\n",
              "        <path d=\"M19 3H5c-1.1 0-2 .9-2 2v14c0 1.1.9 2 2 2h14c1.1 0 2-.9 2-2V5c0-1.1-.9-2-2-2zM9 17H7v-7h2v7zm4 0h-2V7h2v10zm4 0h-2v-4h2v4z\"/>\n",
              "    </g>\n",
              "</svg>\n",
              "  </button>\n",
              "\n",
              "<style>\n",
              "  .colab-df-quickchart {\n",
              "      --bg-color: #E8F0FE;\n",
              "      --fill-color: #1967D2;\n",
              "      --hover-bg-color: #E2EBFA;\n",
              "      --hover-fill-color: #174EA6;\n",
              "      --disabled-fill-color: #AAA;\n",
              "      --disabled-bg-color: #DDD;\n",
              "  }\n",
              "\n",
              "  [theme=dark] .colab-df-quickchart {\n",
              "      --bg-color: #3B4455;\n",
              "      --fill-color: #D2E3FC;\n",
              "      --hover-bg-color: #434B5C;\n",
              "      --hover-fill-color: #FFFFFF;\n",
              "      --disabled-bg-color: #3B4455;\n",
              "      --disabled-fill-color: #666;\n",
              "  }\n",
              "\n",
              "  .colab-df-quickchart {\n",
              "    background-color: var(--bg-color);\n",
              "    border: none;\n",
              "    border-radius: 50%;\n",
              "    cursor: pointer;\n",
              "    display: none;\n",
              "    fill: var(--fill-color);\n",
              "    height: 32px;\n",
              "    padding: 0;\n",
              "    width: 32px;\n",
              "  }\n",
              "\n",
              "  .colab-df-quickchart:hover {\n",
              "    background-color: var(--hover-bg-color);\n",
              "    box-shadow: 0 1px 2px rgba(60, 64, 67, 0.3), 0 1px 3px 1px rgba(60, 64, 67, 0.15);\n",
              "    fill: var(--button-hover-fill-color);\n",
              "  }\n",
              "\n",
              "  .colab-df-quickchart-complete:disabled,\n",
              "  .colab-df-quickchart-complete:disabled:hover {\n",
              "    background-color: var(--disabled-bg-color);\n",
              "    fill: var(--disabled-fill-color);\n",
              "    box-shadow: none;\n",
              "  }\n",
              "\n",
              "  .colab-df-spinner {\n",
              "    border: 2px solid var(--fill-color);\n",
              "    border-color: transparent;\n",
              "    border-bottom-color: var(--fill-color);\n",
              "    animation:\n",
              "      spin 1s steps(1) infinite;\n",
              "  }\n",
              "\n",
              "  @keyframes spin {\n",
              "    0% {\n",
              "      border-color: transparent;\n",
              "      border-bottom-color: var(--fill-color);\n",
              "      border-left-color: var(--fill-color);\n",
              "    }\n",
              "    20% {\n",
              "      border-color: transparent;\n",
              "      border-left-color: var(--fill-color);\n",
              "      border-top-color: var(--fill-color);\n",
              "    }\n",
              "    30% {\n",
              "      border-color: transparent;\n",
              "      border-left-color: var(--fill-color);\n",
              "      border-top-color: var(--fill-color);\n",
              "      border-right-color: var(--fill-color);\n",
              "    }\n",
              "    40% {\n",
              "      border-color: transparent;\n",
              "      border-right-color: var(--fill-color);\n",
              "      border-top-color: var(--fill-color);\n",
              "    }\n",
              "    60% {\n",
              "      border-color: transparent;\n",
              "      border-right-color: var(--fill-color);\n",
              "    }\n",
              "    80% {\n",
              "      border-color: transparent;\n",
              "      border-right-color: var(--fill-color);\n",
              "      border-bottom-color: var(--fill-color);\n",
              "    }\n",
              "    90% {\n",
              "      border-color: transparent;\n",
              "      border-bottom-color: var(--fill-color);\n",
              "    }\n",
              "  }\n",
              "</style>\n",
              "\n",
              "  <script>\n",
              "    async function quickchart(key) {\n",
              "      const quickchartButtonEl =\n",
              "        document.querySelector('#' + key + ' button');\n",
              "      quickchartButtonEl.disabled = true;  // To prevent multiple clicks.\n",
              "      quickchartButtonEl.classList.add('colab-df-spinner');\n",
              "      try {\n",
              "        const charts = await google.colab.kernel.invokeFunction(\n",
              "            'suggestCharts', [key], {});\n",
              "      } catch (error) {\n",
              "        console.error('Error during call to suggestCharts:', error);\n",
              "      }\n",
              "      quickchartButtonEl.classList.remove('colab-df-spinner');\n",
              "      quickchartButtonEl.classList.add('colab-df-quickchart-complete');\n",
              "    }\n",
              "    (() => {\n",
              "      let quickchartButtonEl =\n",
              "        document.querySelector('#df-68229a0e-1109-425e-a19a-a675947bac1e button');\n",
              "      quickchartButtonEl.style.display =\n",
              "        google.colab.kernel.accessAllowed ? 'block' : 'none';\n",
              "    })();\n",
              "  </script>\n",
              "</div>\n",
              "    </div>\n",
              "  </div>\n"
            ],
            "text/plain": [
              "   user_id  product_id                              product_name  rating  \\\n",
              "0     1813      154533                           Beautiful Thing       5   \n",
              "1     1944      192838                             Almost Famous       5   \n",
              "2      534      202590                        A Clockwork Orange       5   \n",
              "3     1811      140456  Great Expectations (Wordsworth Classics)       4   \n",
              "4      102      154278                                Phenomenon       5   \n",
              "\n",
              "   votes  helpful_votes  ID  \n",
              "0     10              8   0  \n",
              "1      4              2   1  \n",
              "2      5              5   2  \n",
              "3      1              0   3  \n",
              "4      0              0   4  "
            ]
          },
          "execution_count": 11,
          "metadata": {},
          "output_type": "execute_result"
        }
      ],
      "source": [
        "train.head(5)"
      ]
    },
    {
      "cell_type": "code",
      "execution_count": 39,
      "metadata": {
        "id": "5KQSvow0L006"
      },
      "outputs": [],
      "source": [
        "train_data = Dataset.load_from_df(train[['user_id', 'product_id', 'rating']],\n",
        "                                  reader)"
      ]
    },
    {
      "cell_type": "code",
      "execution_count": 40,
      "metadata": {
        "colab": {
          "base_uri": "https://localhost:8080/"
        },
        "id": "Eqaq5d1AUrij",
        "outputId": "35568a66-ee2e-4157-b7e8-a59d29254a4b"
      },
      "outputs": [
        {
          "name": "stdout",
          "output_type": "stream",
          "text": [
            "Estimating biases using als...\n",
            "Estimating biases using als...\n",
            "Estimating biases using als...\n",
            "Estimating biases using als...\n",
            "Estimating biases using als...\n",
            "Evaluating RMSE, MAE of algorithm BaselineOnly on 5 split(s).\n",
            "\n",
            "                  Fold 1  Fold 2  Fold 3  Fold 4  Fold 5  Mean    Std     \n",
            "RMSE (testset)    0.9379  0.9366  0.9408  0.9367  0.9405  0.9385  0.0018  \n",
            "MAE (testset)     0.6989  0.6994  0.7013  0.6987  0.7014  0.6999  0.0012  \n",
            "Fit time          6.14    7.10    6.58    7.05    6.69    6.71    0.35    \n",
            "Test time         4.38    2.29    1.78    2.29    1.63    2.48    0.99    \n"
          ]
        },
        {
          "data": {
            "text/plain": [
              "{'test_rmse': array([0.93792496, 0.93661354, 0.94081478, 0.93669841, 0.94054825]),\n",
              " 'test_mae': array([0.69887722, 0.69937291, 0.70127262, 0.69873837, 0.70136852]),\n",
              " 'fit_time': (6.142350196838379,\n",
              "  7.101520776748657,\n",
              "  6.577631950378418,\n",
              "  7.048041343688965,\n",
              "  6.692445516586304),\n",
              " 'test_time': (4.381750583648682,\n",
              "  2.2919414043426514,\n",
              "  1.7848269939422607,\n",
              "  2.290771961212158,\n",
              "  1.6339161396026611)}"
            ]
          },
          "execution_count": 40,
          "metadata": {},
          "output_type": "execute_result"
        }
      ],
      "source": [
        "from surprise import BaselineOnly\n",
        "bsl_options = {'method': 'als'}\n",
        "bias_baseline = BaselineOnly(bsl_options)\n",
        "\n",
        "cross_validate(bias_baseline, train_data, measures=['RMSE', 'MAE'], cv=5, verbose=True)"
      ]
    },
    {
      "cell_type": "code",
      "execution_count": 41,
      "metadata": {
        "colab": {
          "base_uri": "https://localhost:8080/"
        },
        "id": "WxtRHuracPmT",
        "outputId": "7b530132-48c4-4285-cad3-d79e9712d3b2"
      },
      "outputs": [
        {
          "name": "stdout",
          "output_type": "stream",
          "text": [
            "Estimating biases using als...\n"
          ]
        }
      ],
      "source": [
        "trainset = train_data.build_full_trainset()\n",
        "bias_baseline.fit(trainset)\n",
        "\n",
        "M4_test_pred = predict_ratings(test, bias_baseline)\n",
        "\n",
        "# Output the results in the desired form\n",
        "result_df = pd.DataFrame(M4_test_pred, columns=['ID', 'rating'])\n",
        "result_df.to_csv('M4_output.csv', index=False)\n",
        "# public score: 0.96"
      ]
    },
    {
      "cell_type": "markdown",
      "metadata": {
        "id": "OLRjuCAahT4c"
      },
      "source": [
        "## Model 5: NMF"
      ]
    },
    {
      "cell_type": "code",
      "execution_count": 23,
      "metadata": {
        "colab": {
          "base_uri": "https://localhost:8080/"
        },
        "id": "72JbdRWChLsv",
        "outputId": "d7512808-d181-4b91-8d9c-add968716800"
      },
      "outputs": [
        {
          "name": "stdout",
          "output_type": "stream",
          "text": [
            "Evaluating RMSE, MAE of algorithm NMF on 5 split(s).\n",
            "\n",
            "                  Fold 1  Fold 2  Fold 3  Fold 4  Fold 5  Mean    Std     \n",
            "RMSE (testset)    1.0675  1.0575  1.0640  1.0770  1.0870  1.0706  0.0103  \n",
            "MAE (testset)     0.8207  0.8094  0.8168  0.8307  0.8479  0.8251  0.0133  \n",
            "Fit time          50.15   51.08   47.49   50.44   49.14   49.66   1.25    \n",
            "Test time         2.31    1.01    2.82    2.88    1.51    2.11    0.74    \n"
          ]
        },
        {
          "data": {
            "text/plain": [
              "{'test_rmse': array([1.06746257, 1.05752429, 1.06400524, 1.0769567 , 1.08704243]),\n",
              " 'test_mae': array([0.82074649, 0.80944905, 0.81679877, 0.83070911, 0.8479026 ]),\n",
              " 'fit_time': (50.14686369895935,\n",
              "  51.07991981506348,\n",
              "  47.493454933166504,\n",
              "  50.43664574623108,\n",
              "  49.141982555389404),\n",
              " 'test_time': (2.3110432624816895,\n",
              "  1.0135891437530518,\n",
              "  2.81864857673645,\n",
              "  2.884467363357544,\n",
              "  1.5112383365631104)}"
            ]
          },
          "execution_count": 23,
          "metadata": {},
          "output_type": "execute_result"
        }
      ],
      "source": [
        "nmf = NMF()\n",
        "cross_validate(nmf, train_data, measures=['RMSE', 'MAE'], cv=5, verbose=True)"
      ]
    },
    {
      "cell_type": "code",
      "execution_count": 42,
      "metadata": {
        "colab": {
          "base_uri": "https://localhost:8080/"
        },
        "id": "-mK2ZNrPhLqi",
        "outputId": "0d4297f3-f908-475c-f2b9-5647b7f34158"
      },
      "outputs": [
        {
          "data": {
            "text/plain": [
              "<surprise.prediction_algorithms.matrix_factorization.NMF at 0x79ea4dd0c580>"
            ]
          },
          "execution_count": 42,
          "metadata": {},
          "output_type": "execute_result"
        }
      ],
      "source": [
        "#using nmf\n",
        "trainset = train_data.build_full_trainset()\n",
        "nmf.fit(trainset)"
      ]
    },
    {
      "cell_type": "code",
      "execution_count": 43,
      "metadata": {
        "id": "VNrIOrKQg2Yz"
      },
      "outputs": [],
      "source": [
        "M5_test_pred = predict_ratings(test, nmf)\n",
        "\n",
        "# Output the results in the desired form\n",
        "result_df = pd.DataFrame(M5_test_pred, columns=['ID', 'rating'])\n",
        "result_df.to_csv('M5_output.csv', index=False)\n",
        "# public score: 1.07 (output 15)"
      ]
    },
    {
      "cell_type": "markdown",
      "metadata": {
        "id": "kDHSpJ_Wj4mL"
      },
      "source": [
        "## Model 6: SVD with params tuning"
      ]
    },
    {
      "cell_type": "code",
      "execution_count": 44,
      "metadata": {
        "colab": {
          "base_uri": "https://localhost:8080/"
        },
        "id": "qBf49ph3hLXA",
        "outputId": "8c2900e0-cb01-4cb8-9dd2-fdd05ddc17c7"
      },
      "outputs": [
        {
          "name": "stdout",
          "output_type": "stream",
          "text": [
            "Best Parameters: {'n_factors': 150, 'reg_all': 0.05, 'lr_all': 0.02}\n",
            "Best RMSE Score: 0.9000574046864308\n"
          ]
        }
      ],
      "source": [
        "param_grid = {'n_factors': [50, 100, 150],\n",
        "              'reg_all': [0.01, 0.02, 0.05],\n",
        "              'lr_all': [0.005, 0.01, 0.02]}\n",
        "\n",
        "grid_search = GridSearchCV(SVD, param_grid, measures=['rmse', 'mae'], cv=5)\n",
        "grid_search.fit(train_data)\n",
        "\n",
        "best_params = grid_search.best_params['rmse']\n",
        "best_score = grid_search.best_score['rmse']\n",
        "\n",
        "print(\"Best Parameters:\", best_params)\n",
        "print(\"Best RMSE Score:\", best_score)"
      ]
    },
    {
      "cell_type": "code",
      "execution_count": 45,
      "metadata": {
        "id": "bEtNhzX2hLUg"
      },
      "outputs": [],
      "source": [
        "svd_model = SVD(**best_params)\n",
        "svd_model.fit(trainset)\n",
        "M6_test_pred = predict_ratings(test, svd_model)\n",
        "\n",
        "# Output as df and export\n",
        "result_df = pd.DataFrame(M6_test_pred, columns=['ID', 'rating'])\n",
        "result_df.to_csv('M6_output.csv', index=False)\n",
        "# public score: 0.91922 (output 16)"
      ]
    },
    {
      "cell_type": "markdown",
      "metadata": {
        "id": "uenD-Hzbq_pJ"
      },
      "source": [
        "## Model 7: Diff way of making prediciton using SVD"
      ]
    },
    {
      "cell_type": "code",
      "execution_count": 46,
      "metadata": {
        "id": "5b9jaQJ7q_WI"
      },
      "outputs": [],
      "source": [
        "from surprise import SVD\n",
        "from surprise import Dataset, Reader\n",
        "import pandas as pd\n",
        "\n",
        "train_data = train[['user_id', 'product_id', 'rating']]\n",
        "test_data = test[['user_id', 'product_id']]\n",
        "\n",
        "reader = Reader(rating_scale=(1, 5))\n",
        "trainset = Dataset.load_from_df(train_data, reader).build_full_trainset()\n",
        "\n",
        "svd_model = SVD(n_factors=150, reg_all=0.05, lr_all=0.02)\n",
        "svd_model.fit(trainset)\n",
        "\n",
        "# # Train the SVD model\n",
        "# svd_model = SVD(n_factors=100, reg_all=0.05, lr_all=0.02)\n",
        "# svd_model.fit(trainset)\n",
        "\n",
        "\n",
        "testset = list(zip(test_data['user_id'].values, test_data['product_id'].values))\n",
        "M7_test_pred = [svd_model.predict(uid, iid) for uid, iid in testset]\n",
        "predicted_ratings = [pred.est for pred in M7_test_pred]\n",
        "\n",
        "\n",
        "result_df = pd.DataFrame({'ID': test_data.index, 'rating': predicted_ratings})\n",
        "result_df.to_csv('M7_output.csv', index=False)\n",
        "# public score: 0.91945 (output 17)"
      ]
    },
    {
      "cell_type": "markdown",
      "metadata": {
        "id": "9dQ_2DvTlmFG"
      },
      "source": [
        "## Model 8: 2nd attemp tuning param of SVD"
      ]
    },
    {
      "cell_type": "code",
      "execution_count": 52,
      "metadata": {
        "id": "gEP7mjoqX4dk"
      },
      "outputs": [],
      "source": [
        "param_grid_2 = {'n_factors': [100, 150, 200],\n",
        "              'reg_all': [0.02, 0.05, 0.07],\n",
        "              'lr_all': [0.01, 0.03, 0.05]}\n",
        "train_data = Dataset.load_from_df(train[['user_id', 'product_id', 'rating']],\n",
        "                                  reader)\n",
        "grid_search = GridSearchCV(SVD, param_grid_2, measures=['rmse', 'mae'], cv=5)\n",
        "grid_search.fit(train_data)\n",
        "\n",
        "best_params_2 = grid_search.best_params['rmse']\n",
        "best_score_2 = grid_search.best_score['rmse']"
      ]
    },
    {
      "cell_type": "code",
      "execution_count": 53,
      "metadata": {
        "colab": {
          "base_uri": "https://localhost:8080/"
        },
        "id": "2bch7y87M97g",
        "outputId": "c72bfe0a-650a-453c-eef0-acf9d0d7104e"
      },
      "outputs": [
        {
          "name": "stdout",
          "output_type": "stream",
          "text": [
            "Best Parameters: {'n_factors': 200, 'reg_all': 0.05, 'lr_all': 0.05}\n",
            "Best RMSE Score: 0.8852759818256322\n"
          ]
        }
      ],
      "source": [
        "print(\"Best Parameters:\", best_params_2)\n",
        "print(\"Best RMSE Score:\", best_score_2)"
      ]
    },
    {
      "cell_type": "code",
      "execution_count": 54,
      "metadata": {
        "id": "qrR6fV1RX4Yw"
      },
      "outputs": [],
      "source": [
        "# prediciton with all user and product id\n",
        "from surprise import SVD\n",
        "from surprise import Dataset, Reader\n",
        "import pandas as pd\n",
        "\n",
        "train_data = train[['user_id', 'product_id', 'rating']]\n",
        "test_data = test[['user_id', 'product_id']]\n",
        "\n",
        "reader = Reader(rating_scale=(1, 5))\n",
        "trainset = Dataset.load_from_df(train_data, reader).build_full_trainset()\n",
        "\n",
        "svd_model = SVD(n_factors=200, reg_all=0.05, lr_all=0.05)\n",
        "svd_model.fit(trainset)\n",
        "\n",
        "# # Train the SVD model\n",
        "# svd_model = SVD(n_factors=100, reg_all=0.05, lr_all=0.02)\n",
        "# svd_model.fit(trainset)\n",
        "\n",
        "testset = list(zip(test_data['user_id'].values, test_data['product_id'].values))\n",
        "M8_test_pred = [svd_model.predict(uid, iid) for uid, iid in testset]\n",
        "\n",
        "predicted_ratings = [pred.est for pred in M8_test_pred]\n",
        "\n",
        "\n",
        "result_df = pd.DataFrame({'ID': test_data.index, 'rating': predicted_ratings})\n",
        "result_df.to_csv('M8_output.csv', index=False)\n",
        "# public score: 0.90429"
      ]
    },
    {
      "cell_type": "markdown",
      "metadata": {
        "id": "LF5yzhF0EkRC"
      },
      "source": [
        "## Model 9: NCF"
      ]
    },
    {
      "cell_type": "code",
      "execution_count": 55,
      "metadata": {
        "id": "Q3wOJtc7VkgA"
      },
      "outputs": [],
      "source": [
        "# here is a handy function modified from fast.ai\n",
        "def proc_col(col, train_col=None):\n",
        "    \"\"\"Encodes a pandas column with continous ids.\n",
        "    \"\"\"\n",
        "    if train_col is not None:\n",
        "        uniq = train_col.unique()\n",
        "    else:\n",
        "        uniq = col.unique()\n",
        "    name2idx = {o:i for i,o in enumerate(uniq)}\n",
        "    return name2idx, np.array([name2idx.get(x, -1) for x in col]), len(uniq)\n",
        "\n",
        "def encode_data(df, train=None):\n",
        "    \"\"\" Encodes rating data with continous user and movie ids.\n",
        "    If train is provided, encodes df with the same encoding as train.\n",
        "    \"\"\"\n",
        "    df = df.copy()\n",
        "    for col_name in [\"user_id\", \"product_id\"]:\n",
        "        train_col = None\n",
        "        if train is not None:\n",
        "            train_col = train[col_name]\n",
        "        _,col,_ = proc_col(df[col_name], train_col)\n",
        "        df[col_name] = col\n",
        "        df = df[df[col_name] >= 0]\n",
        "    return df\n",
        "\n",
        "import torch\n",
        "import torch.nn as nn\n",
        "import torch.nn.functional as F\n",
        "\n",
        "class CollabFNet(nn.Module):\n",
        "    def __init__(self, num_users, num_items, emb_size=100, n_hidden=10):\n",
        "        super(CollabFNet, self).__init__()\n",
        "        self.user_emb = nn.Embedding(num_users, emb_size)\n",
        "        self.item_emb = nn.Embedding(num_items, emb_size)\n",
        "        self.lin1 = nn.Linear(emb_size*2, n_hidden)\n",
        "        self.lin2 = nn.Linear(n_hidden, 1)\n",
        "        self.drop1 = nn.Dropout(0.1)\n",
        "\n",
        "    def forward(self, u, v):\n",
        "        U = self.user_emb(u)\n",
        "        V = self.item_emb(v)\n",
        "        x = F.relu(torch.cat([U, V], dim=1))\n",
        "        x = self.drop1(x)\n",
        "        x = F.relu(self.lin1(x))\n",
        "        x = self.lin2(x)\n",
        "        x = 4* torch.sigmoid(x) +1\n",
        "        return x\n",
        "\n",
        "def test_loss(model, val_data, unsqueeze=False):\n",
        "    model.eval()\n",
        "    users = torch.LongTensor(val_data.user_id.values)\n",
        "    items = torch.LongTensor(val_data.product_id.values)\n",
        "    ratings = torch.FloatTensor(val_data.rating.values)\n",
        "    y_hat = model(users, items)\n",
        "    loss = F.mse_loss(y_hat, ratings)\n",
        "    print(\"test loss %.3f \" % loss.item())\n",
        "    print(\"rating: \",ratings)\n",
        "    print(\"predictions:\", y_hat.squeeze().detach().cpu().numpy())\n",
        "\n",
        "def train_epocs(model, train_data, val_data, epochs=5, lr=0.01, wd=0.01, batch_size=100):\n",
        "    optimizer = torch.optim.Adam(model.parameters(), lr=lr, weight_decay=wd)\n",
        "    criterion = nn.MSELoss()\n",
        "    for epoch in range(epochs):\n",
        "        model.train()\n",
        "        for i in range(0, len(train_data), batch_size):\n",
        "            users = torch.LongTensor(train_data.user_id.values[i:i+batch_size])\n",
        "            items = torch.LongTensor(train_data.product_id.values[i:i+batch_size])\n",
        "            ratings = torch.FloatTensor(train_data.rating.values[i:i+batch_size])\n",
        "\n",
        "            optimizer.zero_grad()\n",
        "            outputs = model(users, items)\n",
        "            loss = criterion(outputs.squeeze(), ratings)\n",
        "            loss.backward()\n",
        "            optimizer.step()\n",
        "\n",
        "        print(f\"Epoch {epoch+1}/{epochs}, Loss: {loss.item():.4f}\")\n",
        "        test_loss(model, val_data)"
      ]
    },
    {
      "cell_type": "code",
      "execution_count": 56,
      "metadata": {
        "colab": {
          "base_uri": "https://localhost:8080/"
        },
        "id": "pqnk5djaVv1x",
        "outputId": "d0844510-1577-4b6b-8851-ecb80a4c010e"
      },
      "outputs": [
        {
          "name": "stdout",
          "output_type": "stream",
          "text": [
            "Number of unique users:  2000\n",
            "Number of unique movies:  201325\n",
            "Number of total ratings:  745889\n",
            "Average number of ratings per user:  100.6625\n"
          ]
        }
      ],
      "source": [
        "n_users = train.user_id.unique().shape[0]\n",
        "n_prod = train.product_id.unique().shape[0]\n",
        "n_ratings = len(train)\n",
        "avg_ratings_per_user = n_prod/n_users\n",
        "\n",
        "print('Number of unique users: ', n_users)\n",
        "print('Number of unique movies: ', n_prod)\n",
        "print('Number of total ratings: ', n_ratings)\n",
        "print('Average number of ratings per user: ', avg_ratings_per_user)"
      ]
    },
    {
      "cell_type": "code",
      "execution_count": 57,
      "metadata": {
        "id": "-u7gR3VSFYCx"
      },
      "outputs": [],
      "source": [
        "# Train-test split\n",
        "np.random.seed(3)\n",
        "msk = np.random.rand(len(train_filtered)) < 0.8\n",
        "train_split = train_filtered[msk].copy()\n",
        "val_split = train_filtered[~msk].copy()\n",
        "df_train = encode_data(train_split)\n",
        "df_val = encode_data(val_split, train_split)\n",
        "test_encode = encode_data(test, train_split)"
      ]
    },
    {
      "cell_type": "code",
      "execution_count": 59,
      "metadata": {
        "colab": {
          "base_uri": "https://localhost:8080/"
        },
        "id": "fPQzufMgVfO2",
        "outputId": "a7551cb4-9cc0-4dd6-b48d-855a0a91b1ff"
      },
      "outputs": [
        {
          "name": "stdout",
          "output_type": "stream",
          "text": [
            "Epoch 1/5, Loss: 1.6222\n",
            "test loss 1.259 \n",
            "rating:  tensor([5., 4., 5.,  ..., 5., 4., 5.])\n",
            "predictions: [4.2205124 4.312767  4.235459  ... 4.3062296 4.378082  4.2652035]\n",
            "Epoch 2/5, Loss: 1.6135\n",
            "test loss 1.254 \n",
            "rating:  tensor([5., 4., 5.,  ..., 5., 4., 5.])\n",
            "predictions: [4.2539816 4.2599745 4.173725  ... 4.2999697 4.262755  4.225014 ]\n",
            "Epoch 3/5, Loss: 1.6123\n",
            "test loss 1.246 \n",
            "rating:  tensor([5., 4., 5.,  ..., 5., 4., 5.])\n",
            "predictions: [4.26      4.2571616 4.1912775 ... 4.25503   4.213743  4.227606 ]\n",
            "Epoch 4/5, Loss: 1.6234\n",
            "test loss 1.243 \n",
            "rating:  tensor([5., 4., 5.,  ..., 5., 4., 5.])\n",
            "predictions: [4.2608333 4.264618  4.2500257 ... 4.258134  4.2508187 4.255759 ]\n",
            "Epoch 5/5, Loss: 1.6259\n",
            "test loss 1.243 \n",
            "rating:  tensor([5., 4., 5.,  ..., 5., 4., 5.])\n",
            "predictions: [4.269029  4.270111  4.269558  ... 4.270029  4.2696004 4.269647 ]\n"
          ]
        }
      ],
      "source": [
        "model = CollabFNet(num_users=len(df_train.user_id.unique()),\n",
        "                   num_items=len(df_train.product_id.unique()))\n",
        "# model.cuda()\n",
        "train_epocs(model, df_train, df_val,lr=0.0005, wd=0.05)"
      ]
    },
    {
      "cell_type": "code",
      "execution_count": 60,
      "metadata": {
        "colab": {
          "base_uri": "https://localhost:8080/"
        },
        "id": "tK-RFbLyW7jj",
        "outputId": "102e4e6e-c78c-48da-f8a7-8522cce5e139"
      },
      "outputs": [
        {
          "name": "stdout",
          "output_type": "stream",
          "text": [
            "            ID    rating\n",
            "2            2  4.269832\n",
            "3            3  4.271633\n",
            "4            4  4.271760\n",
            "5            5  4.269818\n",
            "7            7  4.269370\n",
            "...        ...       ...\n",
            "223548  223548  4.281526\n",
            "223549  223549  4.269655\n",
            "223550  223550  4.275832\n",
            "223551  223551  4.268971\n",
            "223552  223552  4.281719\n",
            "\n",
            "[131822 rows x 2 columns]\n"
          ]
        }
      ],
      "source": [
        "test_encode = encode_data(test, train_split)\n",
        "test_encode_cuda = torch.tensor(test_encode[['user_id', 'product_id']].values) #.cuda()\n",
        "\n",
        "model.eval()\n",
        "\n",
        "# Make predictions on the test dataset\n",
        "with torch.no_grad():\n",
        "    M9_test_predpredictions = model(test_encode_cuda[:, 0], test_encode_cuda[:, 1])\n",
        "\n",
        "\n",
        "# M9_test_pred = predictions.cpu().numpy()\n",
        "\n",
        "M9_prediction = M9_test_predpredictions.numpy()\n",
        "\n",
        "results_df = pd.DataFrame({'ID': test_encode['ID'], 'rating': M9_prediction.flatten()})\n",
        "print(results_df)\n"
      ]
    },
    {
      "cell_type": "code",
      "execution_count": 61,
      "metadata": {
        "colab": {
          "base_uri": "https://localhost:8080/"
        },
        "id": "gK7zo1lZp_9j",
        "outputId": "79d3232b-f9c0-4dfc-aa12-431fab167688"
      },
      "outputs": [
        {
          "name": "stdout",
          "output_type": "stream",
          "text": [
            "            ID    rating\n",
            "0            0  3.000000\n",
            "1            1  3.000000\n",
            "2            2  4.269832\n",
            "3            3  4.271633\n",
            "4            4  4.271760\n",
            "...        ...       ...\n",
            "223548  223548  4.281526\n",
            "223549  223549  4.269655\n",
            "223550  223550  4.275832\n",
            "223551  223551  4.268971\n",
            "223552  223552  4.281719\n",
            "\n",
            "[223553 rows x 2 columns]\n"
          ]
        }
      ],
      "source": [
        "# extract mising id\n",
        "missing_ids = set(test['ID']) - set(test_encode['ID'])\n",
        "\n",
        "# fill with 3\n",
        "missing_df = pd.DataFrame({'ID': list(missing_ids), 'rating': [3] * len(missing_ids)})\n",
        "\n",
        "\n",
        "results_df = pd.concat([results_df, missing_df]).sort_values(by='ID')\n",
        "print(results_df)\n"
      ]
    },
    {
      "cell_type": "code",
      "execution_count": 62,
      "metadata": {
        "id": "FIBHctSjp_1G"
      },
      "outputs": [],
      "source": [
        "results_df.to_csv('M9_output.csv', index=False)\n",
        "# public score: 1.36962 (output 17)"
      ]
    },
    {
      "cell_type": "markdown",
      "metadata": {
        "id": "9SJsBg4bqaR2"
      },
      "source": [
        "## Summary of all model result"
      ]
    },
    {
      "cell_type": "code",
      "execution_count": 4,
      "metadata": {
        "colab": {
          "base_uri": "https://localhost:8080/",
          "height": 426
        },
        "id": "hubavrIkqyRB",
        "outputId": "3d9b166e-c2ff-43a4-af4d-0bb3889868e0"
      },
      "outputs": [
        {
          "data": {
            "application/vnd.google.colaboratory.intrinsic+json": {
              "summary": "{\n  \"name\": \"sorted_summary_df\",\n  \"rows\": 11,\n  \"fields\": [\n    {\n      \"column\": \"Model\",\n      \"properties\": {\n        \"dtype\": \"string\",\n        \"num_unique_values\": 11,\n        \"samples\": [\n          \"M2\",\n          \"M8\",\n          \"M5\"\n        ],\n        \"semantic_type\": \"\",\n        \"description\": \"\"\n      }\n    },\n    {\n      \"column\": \"Name\",\n      \"properties\": {\n        \"dtype\": \"string\",\n        \"num_unique_values\": 11,\n        \"samples\": [\n          \"SVD with rounding\",\n          \"SVD with tuned param 2\",\n          \"NMF\"\n        ],\n        \"semantic_type\": \"\",\n        \"description\": \"\"\n      }\n    },\n    {\n      \"column\": \"Public Score\",\n      \"properties\": {\n        \"dtype\": \"number\",\n        \"std\": 0.12533921196642187,\n        \"min\": 0.90429,\n        \"max\": 1.34951,\n        \"num_unique_values\": 11,\n        \"samples\": [\n          1.02153,\n          0.90429,\n          1.08821\n        ],\n        \"semantic_type\": \"\",\n        \"description\": \"\"\n      }\n    }\n  ]\n}",
              "type": "dataframe",
              "variable_name": "sorted_summary_df"
            },
            "text/html": [
              "\n",
              "  <div id=\"df-96d7fc07-0763-4ae1-8e44-16b6e9671075\" class=\"colab-df-container\">\n",
              "    <div>\n",
              "<style scoped>\n",
              "    .dataframe tbody tr th:only-of-type {\n",
              "        vertical-align: middle;\n",
              "    }\n",
              "\n",
              "    .dataframe tbody tr th {\n",
              "        vertical-align: top;\n",
              "    }\n",
              "\n",
              "    .dataframe thead th {\n",
              "        text-align: right;\n",
              "    }\n",
              "</style>\n",
              "<table border=\"1\" class=\"dataframe\">\n",
              "  <thead>\n",
              "    <tr style=\"text-align: right;\">\n",
              "      <th></th>\n",
              "      <th>Name</th>\n",
              "      <th>Public Score</th>\n",
              "    </tr>\n",
              "    <tr>\n",
              "      <th>Model</th>\n",
              "      <th></th>\n",
              "      <th></th>\n",
              "    </tr>\n",
              "  </thead>\n",
              "  <tbody>\n",
              "    <tr>\n",
              "      <th>M8</th>\n",
              "      <td>SVD with tuned param 2</td>\n",
              "      <td>0.90429</td>\n",
              "    </tr>\n",
              "    <tr>\n",
              "      <th>M6</th>\n",
              "      <td>SVD with tuned param</td>\n",
              "      <td>0.91922</td>\n",
              "    </tr>\n",
              "    <tr>\n",
              "      <th>M7</th>\n",
              "      <td>SVD with diff way of pred</td>\n",
              "      <td>0.91945</td>\n",
              "    </tr>\n",
              "    <tr>\n",
              "      <th>M4</th>\n",
              "      <td>Baseline ALS</td>\n",
              "      <td>0.96534</td>\n",
              "    </tr>\n",
              "    <tr>\n",
              "      <th>M1b</th>\n",
              "      <td>SVD</td>\n",
              "      <td>0.96668</td>\n",
              "    </tr>\n",
              "    <tr>\n",
              "      <th>M2</th>\n",
              "      <td>SVD with rounding</td>\n",
              "      <td>1.02153</td>\n",
              "    </tr>\n",
              "    <tr>\n",
              "      <th>M3a</th>\n",
              "      <td>SVD with filtered data</td>\n",
              "      <td>1.03176</td>\n",
              "    </tr>\n",
              "    <tr>\n",
              "      <th>M1a</th>\n",
              "      <td>KNN</td>\n",
              "      <td>1.05338</td>\n",
              "    </tr>\n",
              "    <tr>\n",
              "      <th>M3b</th>\n",
              "      <td>SVD with filtered data &amp; rounded</td>\n",
              "      <td>1.08095</td>\n",
              "    </tr>\n",
              "    <tr>\n",
              "      <th>M5</th>\n",
              "      <td>NMF</td>\n",
              "      <td>1.08821</td>\n",
              "    </tr>\n",
              "    <tr>\n",
              "      <th>M9</th>\n",
              "      <td>NCF</td>\n",
              "      <td>1.34951</td>\n",
              "    </tr>\n",
              "  </tbody>\n",
              "</table>\n",
              "</div>\n",
              "    <div class=\"colab-df-buttons\">\n",
              "\n",
              "  <div class=\"colab-df-container\">\n",
              "    <button class=\"colab-df-convert\" onclick=\"convertToInteractive('df-96d7fc07-0763-4ae1-8e44-16b6e9671075')\"\n",
              "            title=\"Convert this dataframe to an interactive table.\"\n",
              "            style=\"display:none;\">\n",
              "\n",
              "  <svg xmlns=\"http://www.w3.org/2000/svg\" height=\"24px\" viewBox=\"0 -960 960 960\">\n",
              "    <path d=\"M120-120v-720h720v720H120Zm60-500h600v-160H180v160Zm220 220h160v-160H400v160Zm0 220h160v-160H400v160ZM180-400h160v-160H180v160Zm440 0h160v-160H620v160ZM180-180h160v-160H180v160Zm440 0h160v-160H620v160Z\"/>\n",
              "  </svg>\n",
              "    </button>\n",
              "\n",
              "  <style>\n",
              "    .colab-df-container {\n",
              "      display:flex;\n",
              "      gap: 12px;\n",
              "    }\n",
              "\n",
              "    .colab-df-convert {\n",
              "      background-color: #E8F0FE;\n",
              "      border: none;\n",
              "      border-radius: 50%;\n",
              "      cursor: pointer;\n",
              "      display: none;\n",
              "      fill: #1967D2;\n",
              "      height: 32px;\n",
              "      padding: 0 0 0 0;\n",
              "      width: 32px;\n",
              "    }\n",
              "\n",
              "    .colab-df-convert:hover {\n",
              "      background-color: #E2EBFA;\n",
              "      box-shadow: 0px 1px 2px rgba(60, 64, 67, 0.3), 0px 1px 3px 1px rgba(60, 64, 67, 0.15);\n",
              "      fill: #174EA6;\n",
              "    }\n",
              "\n",
              "    .colab-df-buttons div {\n",
              "      margin-bottom: 4px;\n",
              "    }\n",
              "\n",
              "    [theme=dark] .colab-df-convert {\n",
              "      background-color: #3B4455;\n",
              "      fill: #D2E3FC;\n",
              "    }\n",
              "\n",
              "    [theme=dark] .colab-df-convert:hover {\n",
              "      background-color: #434B5C;\n",
              "      box-shadow: 0px 1px 3px 1px rgba(0, 0, 0, 0.15);\n",
              "      filter: drop-shadow(0px 1px 2px rgba(0, 0, 0, 0.3));\n",
              "      fill: #FFFFFF;\n",
              "    }\n",
              "  </style>\n",
              "\n",
              "    <script>\n",
              "      const buttonEl =\n",
              "        document.querySelector('#df-96d7fc07-0763-4ae1-8e44-16b6e9671075 button.colab-df-convert');\n",
              "      buttonEl.style.display =\n",
              "        google.colab.kernel.accessAllowed ? 'block' : 'none';\n",
              "\n",
              "      async function convertToInteractive(key) {\n",
              "        const element = document.querySelector('#df-96d7fc07-0763-4ae1-8e44-16b6e9671075');\n",
              "        const dataTable =\n",
              "          await google.colab.kernel.invokeFunction('convertToInteractive',\n",
              "                                                    [key], {});\n",
              "        if (!dataTable) return;\n",
              "\n",
              "        const docLinkHtml = 'Like what you see? Visit the ' +\n",
              "          '<a target=\"_blank\" href=https://colab.research.google.com/notebooks/data_table.ipynb>data table notebook</a>'\n",
              "          + ' to learn more about interactive tables.';\n",
              "        element.innerHTML = '';\n",
              "        dataTable['output_type'] = 'display_data';\n",
              "        await google.colab.output.renderOutput(dataTable, element);\n",
              "        const docLink = document.createElement('div');\n",
              "        docLink.innerHTML = docLinkHtml;\n",
              "        element.appendChild(docLink);\n",
              "      }\n",
              "    </script>\n",
              "  </div>\n",
              "\n",
              "\n",
              "<div id=\"df-ef702438-5be6-4331-a3e4-2d633db4e935\">\n",
              "  <button class=\"colab-df-quickchart\" onclick=\"quickchart('df-ef702438-5be6-4331-a3e4-2d633db4e935')\"\n",
              "            title=\"Suggest charts\"\n",
              "            style=\"display:none;\">\n",
              "\n",
              "<svg xmlns=\"http://www.w3.org/2000/svg\" height=\"24px\"viewBox=\"0 0 24 24\"\n",
              "     width=\"24px\">\n",
              "    <g>\n",
              "        <path d=\"M19 3H5c-1.1 0-2 .9-2 2v14c0 1.1.9 2 2 2h14c1.1 0 2-.9 2-2V5c0-1.1-.9-2-2-2zM9 17H7v-7h2v7zm4 0h-2V7h2v10zm4 0h-2v-4h2v4z\"/>\n",
              "    </g>\n",
              "</svg>\n",
              "  </button>\n",
              "\n",
              "<style>\n",
              "  .colab-df-quickchart {\n",
              "      --bg-color: #E8F0FE;\n",
              "      --fill-color: #1967D2;\n",
              "      --hover-bg-color: #E2EBFA;\n",
              "      --hover-fill-color: #174EA6;\n",
              "      --disabled-fill-color: #AAA;\n",
              "      --disabled-bg-color: #DDD;\n",
              "  }\n",
              "\n",
              "  [theme=dark] .colab-df-quickchart {\n",
              "      --bg-color: #3B4455;\n",
              "      --fill-color: #D2E3FC;\n",
              "      --hover-bg-color: #434B5C;\n",
              "      --hover-fill-color: #FFFFFF;\n",
              "      --disabled-bg-color: #3B4455;\n",
              "      --disabled-fill-color: #666;\n",
              "  }\n",
              "\n",
              "  .colab-df-quickchart {\n",
              "    background-color: var(--bg-color);\n",
              "    border: none;\n",
              "    border-radius: 50%;\n",
              "    cursor: pointer;\n",
              "    display: none;\n",
              "    fill: var(--fill-color);\n",
              "    height: 32px;\n",
              "    padding: 0;\n",
              "    width: 32px;\n",
              "  }\n",
              "\n",
              "  .colab-df-quickchart:hover {\n",
              "    background-color: var(--hover-bg-color);\n",
              "    box-shadow: 0 1px 2px rgba(60, 64, 67, 0.3), 0 1px 3px 1px rgba(60, 64, 67, 0.15);\n",
              "    fill: var(--button-hover-fill-color);\n",
              "  }\n",
              "\n",
              "  .colab-df-quickchart-complete:disabled,\n",
              "  .colab-df-quickchart-complete:disabled:hover {\n",
              "    background-color: var(--disabled-bg-color);\n",
              "    fill: var(--disabled-fill-color);\n",
              "    box-shadow: none;\n",
              "  }\n",
              "\n",
              "  .colab-df-spinner {\n",
              "    border: 2px solid var(--fill-color);\n",
              "    border-color: transparent;\n",
              "    border-bottom-color: var(--fill-color);\n",
              "    animation:\n",
              "      spin 1s steps(1) infinite;\n",
              "  }\n",
              "\n",
              "  @keyframes spin {\n",
              "    0% {\n",
              "      border-color: transparent;\n",
              "      border-bottom-color: var(--fill-color);\n",
              "      border-left-color: var(--fill-color);\n",
              "    }\n",
              "    20% {\n",
              "      border-color: transparent;\n",
              "      border-left-color: var(--fill-color);\n",
              "      border-top-color: var(--fill-color);\n",
              "    }\n",
              "    30% {\n",
              "      border-color: transparent;\n",
              "      border-left-color: var(--fill-color);\n",
              "      border-top-color: var(--fill-color);\n",
              "      border-right-color: var(--fill-color);\n",
              "    }\n",
              "    40% {\n",
              "      border-color: transparent;\n",
              "      border-right-color: var(--fill-color);\n",
              "      border-top-color: var(--fill-color);\n",
              "    }\n",
              "    60% {\n",
              "      border-color: transparent;\n",
              "      border-right-color: var(--fill-color);\n",
              "    }\n",
              "    80% {\n",
              "      border-color: transparent;\n",
              "      border-right-color: var(--fill-color);\n",
              "      border-bottom-color: var(--fill-color);\n",
              "    }\n",
              "    90% {\n",
              "      border-color: transparent;\n",
              "      border-bottom-color: var(--fill-color);\n",
              "    }\n",
              "  }\n",
              "</style>\n",
              "\n",
              "  <script>\n",
              "    async function quickchart(key) {\n",
              "      const quickchartButtonEl =\n",
              "        document.querySelector('#' + key + ' button');\n",
              "      quickchartButtonEl.disabled = true;  // To prevent multiple clicks.\n",
              "      quickchartButtonEl.classList.add('colab-df-spinner');\n",
              "      try {\n",
              "        const charts = await google.colab.kernel.invokeFunction(\n",
              "            'suggestCharts', [key], {});\n",
              "      } catch (error) {\n",
              "        console.error('Error during call to suggestCharts:', error);\n",
              "      }\n",
              "      quickchartButtonEl.classList.remove('colab-df-spinner');\n",
              "      quickchartButtonEl.classList.add('colab-df-quickchart-complete');\n",
              "    }\n",
              "    (() => {\n",
              "      let quickchartButtonEl =\n",
              "        document.querySelector('#df-ef702438-5be6-4331-a3e4-2d633db4e935 button');\n",
              "      quickchartButtonEl.style.display =\n",
              "        google.colab.kernel.accessAllowed ? 'block' : 'none';\n",
              "    })();\n",
              "  </script>\n",
              "</div>\n",
              "    </div>\n",
              "  </div>\n"
            ],
            "text/plain": [
              "                                   Name  Public Score\n",
              "Model                                                \n",
              "M8               SVD with tuned param 2       0.90429\n",
              "M6                 SVD with tuned param       0.91922\n",
              "M7            SVD with diff way of pred       0.91945\n",
              "M4                         Baseline ALS       0.96534\n",
              "M1b                                 SVD       0.96668\n",
              "M2                    SVD with rounding       1.02153\n",
              "M3a              SVD with filtered data       1.03176\n",
              "M1a                                 KNN       1.05338\n",
              "M3b    SVD with filtered data & rounded       1.08095\n",
              "M5                                  NMF       1.08821\n",
              "M9                                  NCF       1.34951"
            ]
          },
          "execution_count": 4,
          "metadata": {},
          "output_type": "execute_result"
        }
      ],
      "source": [
        "summary_df = pd.DataFrame({\n",
        "    'Model':['M1a', 'M1b',\n",
        "             'M2',\n",
        "             'M3a', 'M3b',\n",
        "             'M4',\n",
        "             'M5',\n",
        "             'M6',\n",
        "             'M7',\n",
        "             'M8',\n",
        "             'M9'],\n",
        "\n",
        "    'Name':['KNN', 'SVD',\n",
        "            'SVD with rounding',\n",
        "            'SVD with filtered data', 'SVD with filtered data & rounded',\n",
        "            'Baseline ALS',\n",
        "            'NMF',\n",
        "            'SVD with tuned param',\n",
        "            'SVD with diff way of pred',\n",
        "            'SVD with tuned param 2',\n",
        "            'NCF'],\n",
        "\n",
        "    'Public Score':[1.05338, 0.96668,\n",
        "                    1.02153,\n",
        "                    1.03176,1.08095,\n",
        "                    0.96534,\n",
        "                    1.08821,\n",
        "                    0.91922,\n",
        "                    0.91945,\n",
        "                    0.90429,\n",
        "                    1.34951]\n",
        "})\n",
        "\n",
        "summary_df.set_index('Model', inplace=True)\n",
        "sorted_summary_df = summary_df.sort_values(by='Public Score')\n",
        "sorted_summary_df"
      ]
    },
    {
      "cell_type": "code",
      "execution_count": null,
      "metadata": {
        "id": "J5o7FtprMd8w"
      },
      "outputs": [],
      "source": []
    }
  ],
  "metadata": {
    "colab": {
      "provenance": []
    },
    "kernelspec": {
      "display_name": "Python 3",
      "name": "python3"
    },
    "language_info": {
      "name": "python"
    }
  },
  "nbformat": 4,
  "nbformat_minor": 0
}
